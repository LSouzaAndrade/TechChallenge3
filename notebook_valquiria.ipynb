{
 "cells": [
  {
   "cell_type": "markdown",
   "metadata": {},
   "source": [
    "## Instalação de dependências externas necessárias"
   ]
  },
  {
   "cell_type": "code",
   "execution_count": null,
   "metadata": {
    "vscode": {
     "languageId": "powershell"
    }
   },
   "outputs": [],
   "source": [
    "%pip install pandas -q\n",
    "%pip install matplotlib -q\n",
    "#%pip install pandas-profiling\n",
    "%pip install seaborn\n",
    "%pip install numpy\n",
    "%pip install -U scikit-learn\n",
    "%pip install yellowbrick\n",
    "%pip install lightgbm\n",
    "%pip install imblearn\n",
    "%pip install lime\n",
    "%pip install shap"
   ]
  },
  {
   "cell_type": "code",
   "execution_count": 32,
   "metadata": {
    "vscode": {
     "languageId": "powershell"
    }
   },
   "outputs": [
    {
     "name": "stdout",
     "output_type": "stream",
     "text": [
      "Note: you may need to restart the kernel to use updated packages.\n"
     ]
    },
    {
     "name": "stderr",
     "output_type": "stream",
     "text": [
      "ERROR: Could not open requirements file: [Errno 2] No such file or directory: 'conda-forge'\n",
      "\n",
      "[notice] A new release of pip is available: 23.0.1 -> 24.2\n",
      "[notice] To update, run: python.exe -m pip install --upgrade pip\n"
     ]
    }
   ],
   "source": [
    "# %pip install conda install -c conda-forge pandas-profiling=2.6.0"
   ]
  },
  {
   "cell_type": "markdown",
   "metadata": {},
   "source": [
    "## Carregamento das dependências"
   ]
  },
  {
   "cell_type": "code",
   "execution_count": 3,
   "metadata": {},
   "outputs": [],
   "source": [
    "import matplotlib.pyplot as plt\n",
    "import pandas as pd\n",
    "pd.set_option('display.max_columns', None)\n",
    "pd.set_option('display.max_rows', 40)\n",
    "pd.set_option('display.max_colwidth', 1000)\n",
    "import sqlite3\n",
    "import seaborn as sns\n",
    "import numpy as np\n",
    "\n",
    "import warnings\n",
    "warnings.filterwarnings('ignore')\n",
    "\n",
    "from sklearn.model_selection import train_test_split\n",
    "from sklearn.preprocessing import StandardScaler\n",
    "from sklearn.linear_model import LogisticRegression\n",
    "from sklearn.preprocessing import OneHotEncoder\n",
    "\n",
    "from sklearn import tree\n",
    "from lightgbm import LGBMClassifier\n",
    "from sklearn.neural_network import MLPRegressor\n",
    "\n",
    "from sklearn.metrics import classification_report\n",
    "from sklearn.metrics import f1_score\n",
    "from sklearn.metrics import precision_score\n",
    "from sklearn.metrics import recall_score\n",
    "from sklearn.metrics import precision_recall_curve\n",
    "from sklearn.metrics import roc_curve\n",
    "from sklearn.metrics import roc_auc_score\n",
    "# from yellowbrick.classifier import ROCAUC\n",
    "# from yellowbrick.classifier import ConfusionMatrix\n",
    "\n",
    "from sklearn.tree import DecisionTreeClassifier\n",
    "from imblearn.over_sampling import SMOTE\n",
    "from sklearn.ensemble import RandomForestClassifier\n",
    "from sklearn.model_selection import RandomizedSearchCV\n",
    "from sklearn.metrics import accuracy_score, classification_report, confusion_matrix\n",
    "\n",
    "# import lime\n",
    "# import lime.lime_tabular\n",
    "import shap\n",
    "\n"
   ]
  },
  {
   "cell_type": "code",
   "execution_count": null,
   "metadata": {},
   "outputs": [],
   "source": [
    "# !pip install -U pandas-profiling\n",
    "# from pandas_profiling import ProfileReport"
   ]
  },
  {
   "cell_type": "markdown",
   "metadata": {},
   "source": [
    "# Dicionário de dados\n",
    "\n",
    "- **Hours_Studied:** Número de horas estudadas por semana.  \n",
    "- **Attendance:** Percentual de aulas assistidas.  \n",
    "- **Parental_Involvement:** Nível de envolvimento dos pais na educação do estudante (Baixo, Médio, Alto).  \n",
    "- **Access_to_Resources:** Disponibilidade de recursos educacionais (Baixo, Médio, Alto).  \n",
    "- **Extracurricular_Activities:** Participação em atividades extracurriculares (Sim, Não).  \n",
    "- **Sleep_Hours:** Número médio de horas de sono por noite.  \n",
    "- **Previous_Scores:** Notas de exames anteriores.  \n",
    "- **Motivation_Level:** Nível de motivação do estudante (Baixo, Médio, Alto).  \n",
    "- **Internet_Access:** Disponibilidade de acesso à internet (Sim, Não).  \n",
    "- **Tutoring_Sessions:** Número de sessões de tutoria frequentadas por mês.  \n",
    "- **Family_Income:** Nível de renda familiar (Baixo, Médio, Alto).  \n",
    "- **Teacher_Quality:** Qualidade dos professores (Baixa, Média, Alta).  \n",
    "- **School_Type:** Tipo de escola frequentada (Pública, Privada).\n",
    "- **Peer_Influence:** Influência dos colegas no desempenho acadêmico (Positiva, Neutra, Negativa).\n",
    "- **Physical_Activity:** Número médio de horas de atividade física por semana.\n",
    "- **Learning_Disabilities:** Presença de dificuldades de aprendizagem (Sim, Não).\n",
    "- **Parental_Education_Level:** Nível de escolaridade mais alto dos pais (Ensino Médio, Faculdade, - Pós-graduação).\n",
    "- **Distance_from_Home:** Distância de casa para a escola (Perto, Moderada, Longe).\n",
    "- **Gender:** Gênero do estudante (Masculino, Feminino).\n",
    "- **Exam_Score:** Nota final do exame."
   ]
  },
  {
   "cell_type": "markdown",
   "metadata": {},
   "source": [
    "## Importação do dataset e criação de DB"
   ]
  },
  {
   "cell_type": "code",
   "execution_count": 7,
   "metadata": {},
   "outputs": [],
   "source": [
    "df = pd.read_csv('https://raw.githubusercontent.com/LSouzaAndrade/TechChallenge3/refs/heads/main/Datasets/StudentPerformanceFactors.csv')\n",
    "conn = sqlite3.connect('./Datasets/StudentPerformanceFactors.db')\n",
    "# dataset.to_sql('StudentData', conn, if_exists='replace', index=False)\n",
    "# conn.close()"
   ]
  },
  {
   "cell_type": "code",
   "execution_count": 70,
   "metadata": {},
   "outputs": [],
   "source": [
    "df = pd.read_csv('StudentPerformanceFactors.csv')"
   ]
  },
  {
   "cell_type": "markdown",
   "metadata": {},
   "source": [
    "### Data Cleaning"
   ]
  },
  {
   "cell_type": "code",
   "execution_count": 3,
   "metadata": {},
   "outputs": [
    {
     "data": {
      "text/plain": [
       "(6607, 20)"
      ]
     },
     "execution_count": 3,
     "metadata": {},
     "output_type": "execute_result"
    }
   ],
   "source": [
    "df.shape"
   ]
  },
  {
   "cell_type": "code",
   "execution_count": 71,
   "metadata": {},
   "outputs": [
    {
     "data": {
      "text/html": [
       "<div>\n",
       "<style scoped>\n",
       "    .dataframe tbody tr th:only-of-type {\n",
       "        vertical-align: middle;\n",
       "    }\n",
       "\n",
       "    .dataframe tbody tr th {\n",
       "        vertical-align: top;\n",
       "    }\n",
       "\n",
       "    .dataframe thead th {\n",
       "        text-align: right;\n",
       "    }\n",
       "</style>\n",
       "<table border=\"1\" class=\"dataframe\">\n",
       "  <thead>\n",
       "    <tr style=\"text-align: right;\">\n",
       "      <th></th>\n",
       "      <th>Hours_Studied</th>\n",
       "      <th>Attendance</th>\n",
       "      <th>Parental_Involvement</th>\n",
       "      <th>Access_to_Resources</th>\n",
       "      <th>Extracurricular_Activities</th>\n",
       "      <th>Sleep_Hours</th>\n",
       "      <th>Previous_Scores</th>\n",
       "      <th>Motivation_Level</th>\n",
       "      <th>Internet_Access</th>\n",
       "      <th>Tutoring_Sessions</th>\n",
       "      <th>Family_Income</th>\n",
       "      <th>Teacher_Quality</th>\n",
       "      <th>School_Type</th>\n",
       "      <th>Peer_Influence</th>\n",
       "      <th>Physical_Activity</th>\n",
       "      <th>Learning_Disabilities</th>\n",
       "      <th>Parental_Education_Level</th>\n",
       "      <th>Distance_from_Home</th>\n",
       "      <th>Gender</th>\n",
       "      <th>Exam_Score</th>\n",
       "    </tr>\n",
       "  </thead>\n",
       "  <tbody>\n",
       "    <tr>\n",
       "      <th>0</th>\n",
       "      <td>23</td>\n",
       "      <td>84</td>\n",
       "      <td>Low</td>\n",
       "      <td>High</td>\n",
       "      <td>No</td>\n",
       "      <td>7</td>\n",
       "      <td>73</td>\n",
       "      <td>Low</td>\n",
       "      <td>Yes</td>\n",
       "      <td>0</td>\n",
       "      <td>Low</td>\n",
       "      <td>Medium</td>\n",
       "      <td>Public</td>\n",
       "      <td>Positive</td>\n",
       "      <td>3</td>\n",
       "      <td>No</td>\n",
       "      <td>High School</td>\n",
       "      <td>Near</td>\n",
       "      <td>Male</td>\n",
       "      <td>67</td>\n",
       "    </tr>\n",
       "    <tr>\n",
       "      <th>1</th>\n",
       "      <td>19</td>\n",
       "      <td>64</td>\n",
       "      <td>Low</td>\n",
       "      <td>Medium</td>\n",
       "      <td>No</td>\n",
       "      <td>8</td>\n",
       "      <td>59</td>\n",
       "      <td>Low</td>\n",
       "      <td>Yes</td>\n",
       "      <td>2</td>\n",
       "      <td>Medium</td>\n",
       "      <td>Medium</td>\n",
       "      <td>Public</td>\n",
       "      <td>Negative</td>\n",
       "      <td>4</td>\n",
       "      <td>No</td>\n",
       "      <td>College</td>\n",
       "      <td>Moderate</td>\n",
       "      <td>Female</td>\n",
       "      <td>61</td>\n",
       "    </tr>\n",
       "    <tr>\n",
       "      <th>2</th>\n",
       "      <td>24</td>\n",
       "      <td>98</td>\n",
       "      <td>Medium</td>\n",
       "      <td>Medium</td>\n",
       "      <td>Yes</td>\n",
       "      <td>7</td>\n",
       "      <td>91</td>\n",
       "      <td>Medium</td>\n",
       "      <td>Yes</td>\n",
       "      <td>2</td>\n",
       "      <td>Medium</td>\n",
       "      <td>Medium</td>\n",
       "      <td>Public</td>\n",
       "      <td>Neutral</td>\n",
       "      <td>4</td>\n",
       "      <td>No</td>\n",
       "      <td>Postgraduate</td>\n",
       "      <td>Near</td>\n",
       "      <td>Male</td>\n",
       "      <td>74</td>\n",
       "    </tr>\n",
       "    <tr>\n",
       "      <th>3</th>\n",
       "      <td>29</td>\n",
       "      <td>89</td>\n",
       "      <td>Low</td>\n",
       "      <td>Medium</td>\n",
       "      <td>Yes</td>\n",
       "      <td>8</td>\n",
       "      <td>98</td>\n",
       "      <td>Medium</td>\n",
       "      <td>Yes</td>\n",
       "      <td>1</td>\n",
       "      <td>Medium</td>\n",
       "      <td>Medium</td>\n",
       "      <td>Public</td>\n",
       "      <td>Negative</td>\n",
       "      <td>4</td>\n",
       "      <td>No</td>\n",
       "      <td>High School</td>\n",
       "      <td>Moderate</td>\n",
       "      <td>Male</td>\n",
       "      <td>71</td>\n",
       "    </tr>\n",
       "    <tr>\n",
       "      <th>4</th>\n",
       "      <td>19</td>\n",
       "      <td>92</td>\n",
       "      <td>Medium</td>\n",
       "      <td>Medium</td>\n",
       "      <td>Yes</td>\n",
       "      <td>6</td>\n",
       "      <td>65</td>\n",
       "      <td>Medium</td>\n",
       "      <td>Yes</td>\n",
       "      <td>3</td>\n",
       "      <td>Medium</td>\n",
       "      <td>High</td>\n",
       "      <td>Public</td>\n",
       "      <td>Neutral</td>\n",
       "      <td>4</td>\n",
       "      <td>No</td>\n",
       "      <td>College</td>\n",
       "      <td>Near</td>\n",
       "      <td>Female</td>\n",
       "      <td>70</td>\n",
       "    </tr>\n",
       "  </tbody>\n",
       "</table>\n",
       "</div>"
      ],
      "text/plain": [
       "   Hours_Studied  Attendance Parental_Involvement Access_to_Resources  \\\n",
       "0             23          84                  Low                High   \n",
       "1             19          64                  Low              Medium   \n",
       "2             24          98               Medium              Medium   \n",
       "3             29          89                  Low              Medium   \n",
       "4             19          92               Medium              Medium   \n",
       "\n",
       "  Extracurricular_Activities  Sleep_Hours  Previous_Scores Motivation_Level  \\\n",
       "0                         No            7               73              Low   \n",
       "1                         No            8               59              Low   \n",
       "2                        Yes            7               91           Medium   \n",
       "3                        Yes            8               98           Medium   \n",
       "4                        Yes            6               65           Medium   \n",
       "\n",
       "  Internet_Access  Tutoring_Sessions Family_Income Teacher_Quality  \\\n",
       "0             Yes                  0           Low          Medium   \n",
       "1             Yes                  2        Medium          Medium   \n",
       "2             Yes                  2        Medium          Medium   \n",
       "3             Yes                  1        Medium          Medium   \n",
       "4             Yes                  3        Medium            High   \n",
       "\n",
       "  School_Type Peer_Influence  Physical_Activity Learning_Disabilities  \\\n",
       "0      Public       Positive                  3                    No   \n",
       "1      Public       Negative                  4                    No   \n",
       "2      Public        Neutral                  4                    No   \n",
       "3      Public       Negative                  4                    No   \n",
       "4      Public        Neutral                  4                    No   \n",
       "\n",
       "  Parental_Education_Level Distance_from_Home  Gender  Exam_Score  \n",
       "0              High School               Near    Male          67  \n",
       "1                  College           Moderate  Female          61  \n",
       "2             Postgraduate               Near    Male          74  \n",
       "3              High School           Moderate    Male          71  \n",
       "4                  College               Near  Female          70  "
      ]
     },
     "execution_count": 71,
     "metadata": {},
     "output_type": "execute_result"
    }
   ],
   "source": [
    "df.head()"
   ]
  },
  {
   "cell_type": "markdown",
   "metadata": {},
   "source": [
    "## Features com valores unicos\n",
    "Verificando a existência de features com valores únicos (devem ser dropadas por não contribuirem para a explicar a variação da feature target)"
   ]
  },
  {
   "cell_type": "code",
   "execution_count": 4,
   "metadata": {},
   "outputs": [
    {
     "data": {
      "text/plain": [
       "Extracurricular_Activities     2\n",
       "Internet_Access                2\n",
       "Gender                         2\n",
       "School_Type                    2\n",
       "Learning_Disabilities          2\n",
       "Distance_from_Home             3\n",
       "Parental_Involvement           3\n",
       "Access_to_Resources            3\n",
       "Parental_Education_Level       3\n",
       "Motivation_Level               3\n",
       "Family_Income                  3\n",
       "Teacher_Quality                3\n",
       "Peer_Influence                 3\n",
       "Sleep_Hours                    7\n",
       "Physical_Activity              7\n",
       "Tutoring_Sessions              9\n",
       "Hours_Studied                 41\n",
       "Attendance                    41\n",
       "Exam_Score                    45\n",
       "Previous_Scores               51\n",
       "dtype: int64"
      ]
     },
     "execution_count": 4,
     "metadata": {},
     "output_type": "execute_result"
    }
   ],
   "source": [
    "df.nunique().sort_values()"
   ]
  },
  {
   "cell_type": "markdown",
   "metadata": {},
   "source": [
    "### NaN Analysis"
   ]
  },
  {
   "cell_type": "code",
   "execution_count": 5,
   "metadata": {},
   "outputs": [
    {
     "data": {
      "text/plain": [
       "Hours_Studied                  0\n",
       "Attendance                     0\n",
       "Parental_Involvement           0\n",
       "Access_to_Resources            0\n",
       "Extracurricular_Activities     0\n",
       "Sleep_Hours                    0\n",
       "Previous_Scores                0\n",
       "Motivation_Level               0\n",
       "Internet_Access                0\n",
       "Tutoring_Sessions              0\n",
       "Family_Income                  0\n",
       "Teacher_Quality               78\n",
       "School_Type                    0\n",
       "Peer_Influence                 0\n",
       "Physical_Activity              0\n",
       "Learning_Disabilities          0\n",
       "Parental_Education_Level      90\n",
       "Distance_from_Home            67\n",
       "Gender                         0\n",
       "Exam_Score                     0\n",
       "dtype: int64"
      ]
     },
     "execution_count": 5,
     "metadata": {},
     "output_type": "execute_result"
    }
   ],
   "source": [
    "df.isna().sum()"
   ]
  },
  {
   "cell_type": "code",
   "execution_count": 6,
   "metadata": {},
   "outputs": [
    {
     "data": {
      "text/plain": [
       "Parental_Education_Level\n",
       "High School     3223\n",
       "College         1989\n",
       "Postgraduate    1305\n",
       "Name: count, dtype: int64"
      ]
     },
     "execution_count": 6,
     "metadata": {},
     "output_type": "execute_result"
    }
   ],
   "source": [
    "df[\"Parental_Education_Level\"].value_counts()"
   ]
  },
  {
   "cell_type": "code",
   "execution_count": 13,
   "metadata": {},
   "outputs": [
    {
     "data": {
      "text/plain": [
       "Teacher_Quality\n",
       "Medium    3925\n",
       "High      1947\n",
       "Low        657\n",
       "Name: count, dtype: int64"
      ]
     },
     "execution_count": 13,
     "metadata": {},
     "output_type": "execute_result"
    }
   ],
   "source": [
    "df[\"Teacher_Quality\"].value_counts()"
   ]
  },
  {
   "cell_type": "code",
   "execution_count": 14,
   "metadata": {},
   "outputs": [
    {
     "data": {
      "text/plain": [
       "Distance_from_Home\n",
       "Near        3884\n",
       "Moderate    1998\n",
       "Far          658\n",
       "Name: count, dtype: int64"
      ]
     },
     "execution_count": 14,
     "metadata": {},
     "output_type": "execute_result"
    }
   ],
   "source": [
    "df[\"Distance_from_Home\"].value_counts()"
   ]
  },
  {
   "cell_type": "markdown",
   "metadata": {},
   "source": [
    "Eliminando os valores nulos do dataset"
   ]
  },
  {
   "cell_type": "code",
   "execution_count": 72,
   "metadata": {},
   "outputs": [],
   "source": [
    "df = df.dropna(subset=[\"Parental_Education_Level\", \"Teacher_Quality\", \"Distance_from_Home\"])"
   ]
  },
  {
   "cell_type": "code",
   "execution_count": 8,
   "metadata": {},
   "outputs": [
    {
     "name": "stdout",
     "output_type": "stream",
     "text": [
      "<class 'pandas.core.frame.DataFrame'>\n",
      "Index: 6378 entries, 0 to 6606\n",
      "Data columns (total 20 columns):\n",
      " #   Column                      Non-Null Count  Dtype \n",
      "---  ------                      --------------  ----- \n",
      " 0   Hours_Studied               6378 non-null   int64 \n",
      " 1   Attendance                  6378 non-null   int64 \n",
      " 2   Parental_Involvement        6378 non-null   object\n",
      " 3   Access_to_Resources         6378 non-null   object\n",
      " 4   Extracurricular_Activities  6378 non-null   object\n",
      " 5   Sleep_Hours                 6378 non-null   int64 \n",
      " 6   Previous_Scores             6378 non-null   int64 \n",
      " 7   Motivation_Level            6378 non-null   object\n",
      " 8   Internet_Access             6378 non-null   object\n",
      " 9   Tutoring_Sessions           6378 non-null   int64 \n",
      " 10  Family_Income               6378 non-null   object\n",
      " 11  Teacher_Quality             6378 non-null   object\n",
      " 12  School_Type                 6378 non-null   object\n",
      " 13  Peer_Influence              6378 non-null   object\n",
      " 14  Physical_Activity           6378 non-null   int64 \n",
      " 15  Learning_Disabilities       6378 non-null   object\n",
      " 16  Parental_Education_Level    6378 non-null   object\n",
      " 17  Distance_from_Home          6378 non-null   object\n",
      " 18  Gender                      6378 non-null   object\n",
      " 19  Exam_Score                  6378 non-null   int64 \n",
      "dtypes: int64(7), object(13)\n",
      "memory usage: 1.0+ MB\n"
     ]
    }
   ],
   "source": [
    "df.info()"
   ]
  },
  {
   "cell_type": "markdown",
   "metadata": {},
   "source": [
    "## Ajuste do dtypes"
   ]
  },
  {
   "cell_type": "code",
   "execution_count": 46,
   "metadata": {},
   "outputs": [
    {
     "data": {
      "text/plain": [
       "Hours_Studied                          Int64\n",
       "Attendance                             Int64\n",
       "Parental_Involvement          string[python]\n",
       "Access_to_Resources           string[python]\n",
       "Extracurricular_Activities    string[python]\n",
       "Sleep_Hours                            Int64\n",
       "Previous_Scores                        Int64\n",
       "Motivation_Level              string[python]\n",
       "Internet_Access               string[python]\n",
       "Tutoring_Sessions                      Int64\n",
       "Family_Income                 string[python]\n",
       "Teacher_Quality               string[python]\n",
       "School_Type                   string[python]\n",
       "Peer_Influence                string[python]\n",
       "Physical_Activity                      Int64\n",
       "Learning_Disabilities         string[python]\n",
       "Parental_Education_Level      string[python]\n",
       "Distance_from_Home            string[python]\n",
       "Gender                        string[python]\n",
       "Exam_Score                             Int64\n",
       "dtype: object"
      ]
     },
     "execution_count": 46,
     "metadata": {},
     "output_type": "execute_result"
    }
   ],
   "source": [
    "df = df.convert_dtypes()\n",
    "df.dtypes"
   ]
  },
  {
   "cell_type": "markdown",
   "metadata": {},
   "source": [
    "## Estatística Básica"
   ]
  },
  {
   "cell_type": "markdown",
   "metadata": {},
   "source": [
    "### Variáveis Numéricas\n"
   ]
  },
  {
   "cell_type": "code",
   "execution_count": 20,
   "metadata": {},
   "outputs": [
    {
     "data": {
      "text/html": [
       "<div>\n",
       "<style scoped>\n",
       "    .dataframe tbody tr th:only-of-type {\n",
       "        vertical-align: middle;\n",
       "    }\n",
       "\n",
       "    .dataframe tbody tr th {\n",
       "        vertical-align: top;\n",
       "    }\n",
       "\n",
       "    .dataframe thead th {\n",
       "        text-align: right;\n",
       "    }\n",
       "</style>\n",
       "<table border=\"1\" class=\"dataframe\">\n",
       "  <thead>\n",
       "    <tr style=\"text-align: right;\">\n",
       "      <th></th>\n",
       "      <th>count</th>\n",
       "      <th>mean</th>\n",
       "      <th>std</th>\n",
       "      <th>min</th>\n",
       "      <th>25%</th>\n",
       "      <th>50%</th>\n",
       "      <th>75%</th>\n",
       "      <th>max</th>\n",
       "    </tr>\n",
       "  </thead>\n",
       "  <tbody>\n",
       "    <tr>\n",
       "      <th>Hours_Studied</th>\n",
       "      <td>6378.0</td>\n",
       "      <td>19.977109</td>\n",
       "      <td>5.98546</td>\n",
       "      <td>1.0</td>\n",
       "      <td>16.0</td>\n",
       "      <td>20.0</td>\n",
       "      <td>24.0</td>\n",
       "      <td>44.0</td>\n",
       "    </tr>\n",
       "    <tr>\n",
       "      <th>Attendance</th>\n",
       "      <td>6378.0</td>\n",
       "      <td>80.020853</td>\n",
       "      <td>11.550723</td>\n",
       "      <td>60.0</td>\n",
       "      <td>70.0</td>\n",
       "      <td>80.0</td>\n",
       "      <td>90.0</td>\n",
       "      <td>100.0</td>\n",
       "    </tr>\n",
       "    <tr>\n",
       "      <th>Sleep_Hours</th>\n",
       "      <td>6378.0</td>\n",
       "      <td>7.034964</td>\n",
       "      <td>1.468033</td>\n",
       "      <td>4.0</td>\n",
       "      <td>6.0</td>\n",
       "      <td>7.0</td>\n",
       "      <td>8.0</td>\n",
       "      <td>10.0</td>\n",
       "    </tr>\n",
       "    <tr>\n",
       "      <th>Previous_Scores</th>\n",
       "      <td>6378.0</td>\n",
       "      <td>75.066165</td>\n",
       "      <td>14.400389</td>\n",
       "      <td>50.0</td>\n",
       "      <td>63.0</td>\n",
       "      <td>75.0</td>\n",
       "      <td>88.0</td>\n",
       "      <td>100.0</td>\n",
       "    </tr>\n",
       "    <tr>\n",
       "      <th>Tutoring_Sessions</th>\n",
       "      <td>6378.0</td>\n",
       "      <td>1.495296</td>\n",
       "      <td>1.233984</td>\n",
       "      <td>0.0</td>\n",
       "      <td>1.0</td>\n",
       "      <td>1.0</td>\n",
       "      <td>2.0</td>\n",
       "      <td>8.0</td>\n",
       "    </tr>\n",
       "    <tr>\n",
       "      <th>Physical_Activity</th>\n",
       "      <td>6378.0</td>\n",
       "      <td>2.972719</td>\n",
       "      <td>1.028926</td>\n",
       "      <td>0.0</td>\n",
       "      <td>2.0</td>\n",
       "      <td>3.0</td>\n",
       "      <td>4.0</td>\n",
       "      <td>6.0</td>\n",
       "    </tr>\n",
       "    <tr>\n",
       "      <th>Exam_Score</th>\n",
       "      <td>6378.0</td>\n",
       "      <td>67.252117</td>\n",
       "      <td>3.914217</td>\n",
       "      <td>55.0</td>\n",
       "      <td>65.0</td>\n",
       "      <td>67.0</td>\n",
       "      <td>69.0</td>\n",
       "      <td>101.0</td>\n",
       "    </tr>\n",
       "  </tbody>\n",
       "</table>\n",
       "</div>"
      ],
      "text/plain": [
       "                    count       mean        std   min   25%   50%   75%    max\n",
       "Hours_Studied      6378.0  19.977109    5.98546   1.0  16.0  20.0  24.0   44.0\n",
       "Attendance         6378.0  80.020853  11.550723  60.0  70.0  80.0  90.0  100.0\n",
       "Sleep_Hours        6378.0   7.034964   1.468033   4.0   6.0   7.0   8.0   10.0\n",
       "Previous_Scores    6378.0  75.066165  14.400389  50.0  63.0  75.0  88.0  100.0\n",
       "Tutoring_Sessions  6378.0   1.495296   1.233984   0.0   1.0   1.0   2.0    8.0\n",
       "Physical_Activity  6378.0   2.972719   1.028926   0.0   2.0   3.0   4.0    6.0\n",
       "Exam_Score         6378.0  67.252117   3.914217  55.0  65.0  67.0  69.0  101.0"
      ]
     },
     "execution_count": 20,
     "metadata": {},
     "output_type": "execute_result"
    }
   ],
   "source": [
    "df.describe().T"
   ]
  },
  {
   "cell_type": "markdown",
   "metadata": {},
   "source": [
    "### Variáveis Categóricas"
   ]
  },
  {
   "cell_type": "code",
   "execution_count": 77,
   "metadata": {},
   "outputs": [
    {
     "data": {
      "text/html": [
       "<div>\n",
       "<style scoped>\n",
       "    .dataframe tbody tr th:only-of-type {\n",
       "        vertical-align: middle;\n",
       "    }\n",
       "\n",
       "    .dataframe tbody tr th {\n",
       "        vertical-align: top;\n",
       "    }\n",
       "\n",
       "    .dataframe thead th {\n",
       "        text-align: right;\n",
       "    }\n",
       "</style>\n",
       "<table border=\"1\" class=\"dataframe\">\n",
       "  <thead>\n",
       "    <tr style=\"text-align: right;\">\n",
       "      <th></th>\n",
       "      <th>Access_to_Resources</th>\n",
       "      <th>Distance_from_Home</th>\n",
       "      <th>Extracurricular_Activities</th>\n",
       "      <th>Family_Income</th>\n",
       "      <th>Gender</th>\n",
       "      <th>Internet_Access</th>\n",
       "      <th>Learning_Disabilities</th>\n",
       "      <th>Motivation_Level</th>\n",
       "      <th>Parental_Education_Level</th>\n",
       "      <th>Parental_Involvement</th>\n",
       "      <th>Peer_Influence</th>\n",
       "      <th>School_Type</th>\n",
       "      <th>Teacher_Quality</th>\n",
       "    </tr>\n",
       "  </thead>\n",
       "  <tbody>\n",
       "    <tr>\n",
       "      <th>count</th>\n",
       "      <td>6378</td>\n",
       "      <td>6378</td>\n",
       "      <td>6378</td>\n",
       "      <td>6378</td>\n",
       "      <td>6378</td>\n",
       "      <td>6378</td>\n",
       "      <td>6378</td>\n",
       "      <td>6378</td>\n",
       "      <td>6378</td>\n",
       "      <td>6378</td>\n",
       "      <td>6378</td>\n",
       "      <td>6378</td>\n",
       "      <td>6378</td>\n",
       "    </tr>\n",
       "    <tr>\n",
       "      <th>unique</th>\n",
       "      <td>3</td>\n",
       "      <td>3</td>\n",
       "      <td>2</td>\n",
       "      <td>3</td>\n",
       "      <td>2</td>\n",
       "      <td>2</td>\n",
       "      <td>2</td>\n",
       "      <td>3</td>\n",
       "      <td>3</td>\n",
       "      <td>3</td>\n",
       "      <td>3</td>\n",
       "      <td>2</td>\n",
       "      <td>3</td>\n",
       "    </tr>\n",
       "    <tr>\n",
       "      <th>top</th>\n",
       "      <td>Medium</td>\n",
       "      <td>Near</td>\n",
       "      <td>Yes</td>\n",
       "      <td>Low</td>\n",
       "      <td>Male</td>\n",
       "      <td>Yes</td>\n",
       "      <td>No</td>\n",
       "      <td>Medium</td>\n",
       "      <td>High School</td>\n",
       "      <td>Medium</td>\n",
       "      <td>Positive</td>\n",
       "      <td>Public</td>\n",
       "      <td>Medium</td>\n",
       "    </tr>\n",
       "    <tr>\n",
       "      <th>freq</th>\n",
       "      <td>3204</td>\n",
       "      <td>3801</td>\n",
       "      <td>3807</td>\n",
       "      <td>2582</td>\n",
       "      <td>3688</td>\n",
       "      <td>5893</td>\n",
       "      <td>5710</td>\n",
       "      <td>3237</td>\n",
       "      <td>3159</td>\n",
       "      <td>3251</td>\n",
       "      <td>2553</td>\n",
       "      <td>4434</td>\n",
       "      <td>3826</td>\n",
       "    </tr>\n",
       "  </tbody>\n",
       "</table>\n",
       "</div>"
      ],
      "text/plain": [
       "       Access_to_Resources Distance_from_Home Extracurricular_Activities  \\\n",
       "count                 6378               6378                       6378   \n",
       "unique                   3                  3                          2   \n",
       "top                 Medium               Near                        Yes   \n",
       "freq                  3204               3801                       3807   \n",
       "\n",
       "       Family_Income Gender Internet_Access Learning_Disabilities  \\\n",
       "count           6378   6378            6378                  6378   \n",
       "unique             3      2               2                     2   \n",
       "top              Low   Male             Yes                    No   \n",
       "freq            2582   3688            5893                  5710   \n",
       "\n",
       "       Motivation_Level Parental_Education_Level Parental_Involvement  \\\n",
       "count              6378                     6378                 6378   \n",
       "unique                3                        3                    3   \n",
       "top              Medium              High School               Medium   \n",
       "freq               3237                     3159                 3251   \n",
       "\n",
       "       Peer_Influence School_Type Teacher_Quality  \n",
       "count            6378        6378            6378  \n",
       "unique              3           2               3  \n",
       "top          Positive      Public          Medium  \n",
       "freq             2553        4434            3826  "
      ]
     },
     "execution_count": 77,
     "metadata": {},
     "output_type": "execute_result"
    }
   ],
   "source": [
    "df.describe(include = 'string')"
   ]
  },
  {
   "cell_type": "code",
   "execution_count": 22,
   "metadata": {},
   "outputs": [
    {
     "data": {
      "text/plain": [
       "Parental_Involvement\n",
       "Medium    0.509721\n",
       "High      0.287865\n",
       "Low       0.202415\n",
       "Name: proportion, dtype: Float64"
      ]
     },
     "execution_count": 22,
     "metadata": {},
     "output_type": "execute_result"
    }
   ],
   "source": [
    "df.Parental_Involvement.value_counts(normalize = True)"
   ]
  },
  {
   "cell_type": "code",
   "execution_count": 23,
   "metadata": {},
   "outputs": [
    {
     "data": {
      "text/plain": [
       "Access_to_Resources\n",
       "Medium    0.502352\n",
       "High      0.297899\n",
       "Low       0.199749\n",
       "Name: proportion, dtype: Float64"
      ]
     },
     "execution_count": 23,
     "metadata": {},
     "output_type": "execute_result"
    }
   ],
   "source": [
    "df.Access_to_Resources.value_counts(normalize = True)"
   ]
  },
  {
   "cell_type": "code",
   "execution_count": 24,
   "metadata": {},
   "outputs": [
    {
     "data": {
      "text/plain": [
       "Extracurricular_Activities\n",
       "Yes    0.596896\n",
       "No     0.403104\n",
       "Name: proportion, dtype: Float64"
      ]
     },
     "execution_count": 24,
     "metadata": {},
     "output_type": "execute_result"
    }
   ],
   "source": [
    "df.Extracurricular_Activities.value_counts(normalize = True)"
   ]
  },
  {
   "cell_type": "code",
   "execution_count": 25,
   "metadata": {},
   "outputs": [
    {
     "data": {
      "text/plain": [
       "Motivation_Level\n",
       "Medium    0.507526\n",
       "Low       0.292255\n",
       "High       0.20022\n",
       "Name: proportion, dtype: Float64"
      ]
     },
     "execution_count": 25,
     "metadata": {},
     "output_type": "execute_result"
    }
   ],
   "source": [
    "df.Motivation_Level.value_counts(normalize = True)"
   ]
  },
  {
   "cell_type": "code",
   "execution_count": 26,
   "metadata": {},
   "outputs": [
    {
     "data": {
      "text/plain": [
       "Internet_Access\n",
       "Yes    0.923957\n",
       "No     0.076043\n",
       "Name: proportion, dtype: Float64"
      ]
     },
     "execution_count": 26,
     "metadata": {},
     "output_type": "execute_result"
    }
   ],
   "source": [
    "df.Internet_Access.value_counts(normalize = True)"
   ]
  },
  {
   "cell_type": "code",
   "execution_count": 27,
   "metadata": {},
   "outputs": [
    {
     "data": {
      "text/plain": [
       "Gender\n",
       "Male      0.578238\n",
       "Female    0.421762\n",
       "Name: proportion, dtype: Float64"
      ]
     },
     "execution_count": 27,
     "metadata": {},
     "output_type": "execute_result"
    }
   ],
   "source": [
    "df.Family_Income.value_counts(normalize = True)\n",
    "df.Teacher_Quality.value_counts(normalize = True)\n",
    "df.School_Type.value_counts(normalize = True)\n",
    "\n",
    "df.Peer_Influence.value_counts(normalize = True)\n",
    "df.Learning_Disabilities.value_counts(normalize = True)\n",
    "df.Parental_Education_Level.value_counts(normalize = True)\n",
    "\n",
    "df.Distance_from_Home.value_counts(normalize = True)\n",
    "df.Gender.value_counts(normalize = True)"
   ]
  },
  {
   "cell_type": "markdown",
   "metadata": {},
   "source": [
    "# EDA utilizando Pandas"
   ]
  },
  {
   "cell_type": "markdown",
   "metadata": {},
   "source": []
  },
  {
   "cell_type": "code",
   "execution_count": 50,
   "metadata": {},
   "outputs": [
    {
     "data": {
      "text/plain": [
       "Index(['Access_to_Resources', 'Attendance', 'Distance_from_Home',\n",
       "       'Extracurricular_Activities', 'Family_Income', 'Gender',\n",
       "       'Hours_Studied', 'Internet_Access', 'Learning_Disabilities',\n",
       "       'Motivation_Level', 'Parental_Education_Level', 'Parental_Involvement',\n",
       "       'Peer_Influence', 'Physical_Activity', 'Previous_Scores', 'School_Type',\n",
       "       'Sleep_Hours', 'Teacher_Quality', 'Tutoring_Sessions', 'Exam_Score'],\n",
       "      dtype='object')"
      ]
     },
     "execution_count": 50,
     "metadata": {},
     "output_type": "execute_result"
    }
   ],
   "source": [
    "# df.rename(columns={'Exam_Score':'z_Exam_Score'},inplace = True)\n",
    "cols = df.columns.sort_values()\n",
    "df = df[cols]\n",
    "#df.rename(columns={'z_Exam_Score':'Exam_Score'},inplace = True)\n",
    "\n",
    "df.columns"
   ]
  },
  {
   "cell_type": "code",
   "execution_count": 57,
   "metadata": {},
   "outputs": [
    {
     "data": {
      "text/plain": [
       "<AxesSubplot:ylabel='Count'>"
      ]
     },
     "execution_count": 57,
     "metadata": {},
     "output_type": "execute_result"
    },
    {
     "data": {
      "image/png": "[encoded data removed]",
      "text/plain": [
       "<Figure size 640x480 with 1 Axes>"
      ]
     },
     "metadata": {},
     "output_type": "display_data"
    }
   ],
   "source": [
    "# fig, axes = plt.subplots(5, 5, figsize=(25, 16), sharey=False)\n",
    "# fig.suptitle('Exam_Score Analysis')\n",
    "\n",
    "sns.histplot(data=df)\n"
   ]
  },
  {
   "cell_type": "code",
   "execution_count": 14,
   "metadata": {},
   "outputs": [
    {
     "data": {
      "image/png": "[encoded data removed]",
      "text/plain": [
       "<Figure size 1000x750 with 13 Axes>"
      ]
     },
     "metadata": {},
     "output_type": "display_data"
    }
   ],
   "source": [
    "plt.figure(figsize=(10, 7.5))\n",
    "plt.suptitle(\"Análise universal das features categoricas\", \n",
    "             fontsize=10,\n",
    "             alpha=0.8,\n",
    "             y=1.)\n",
    "\n",
    "cat1 = [\"Parental_Involvement\", \"Access_to_Resources\", \"Extracurricular_Activities\", \"Motivation_Level\",\n",
    "        \"Internet_Access\", \"Family_Income\", \"Teacher_Quality\", \"School_Type\", \"Peer_Influence\",\n",
    "        \"Learning_Disabilities\", \"Parental_Education_Level\", \"Distance_from_Home\", \"Gender\"]\n",
    "\n",
    "for i in range(len(cat1)):\n",
    "    plt.subplot(3, 5, i+1)  # Ajuste para 3 linhas e 5 colunas\n",
    "    sns.countplot(x=df[cat1[i]])\n",
    "    plt.xlabel(cat1[i])\n",
    "    plt.xticks(rotation=45)\n",
    "\n",
    "plt.tight_layout()\n",
    "plt.show()\n"
   ]
  },
  {
   "cell_type": "code",
   "execution_count": 68,
   "metadata": {},
   "outputs": [
    {
     "data": {
      "text/plain": [
       "0"
      ]
     },
     "execution_count": 68,
     "metadata": {},
     "output_type": "execute_result"
    }
   ],
   "source": [
    "df.duplicated().sum()"
   ]
  },
  {
   "cell_type": "code",
   "execution_count": 17,
   "metadata": {},
   "outputs": [
    {
     "data": {
      "text/plain": [
       "<AxesSubplot: xlabel='Access_to_Resources', ylabel='Count'>"
      ]
     },
     "execution_count": 17,
     "metadata": {},
     "output_type": "execute_result"
    },
    {
     "data": {
      "image/png": "[encoded data removed]",
      "text/plain": [
       "<Figure size 640x480 with 1 Axes>"
      ]
     },
     "metadata": {},
     "output_type": "display_data"
    }
   ],
   "source": [
    "sns.histplot(df, x='Access_to_Resources')"
   ]
  },
  {
   "cell_type": "code",
   "execution_count": 18,
   "metadata": {},
   "outputs": [
    {
     "data": {
      "text/plain": [
       "<AxesSubplot: xlabel='School_Type', ylabel='Count'>"
      ]
     },
     "execution_count": 18,
     "metadata": {},
     "output_type": "execute_result"
    },
    {
     "data": {
      "image/png": "[encoded data removed]",
      "text/plain": [
       "<Figure size 640x480 with 1 Axes>"
      ]
     },
     "metadata": {},
     "output_type": "display_data"
    }
   ],
   "source": [
    "sns.histplot(df, x='School_Type')\n"
   ]
  },
  {
   "cell_type": "markdown",
   "metadata": {},
   "source": [
    "### De acordo com os gráficos abaixo percebemos que tanto os alunos das escola pública como das escolas pariculares tiveram boas notas no exame.\n",
    "### Entretando os alunos da escola particular possuem notas maiores no exame"
   ]
  },
  {
   "cell_type": "code",
   "execution_count": 104,
   "metadata": {},
   "outputs": [
    {
     "data": {
      "text/plain": [
       "<AxesSubplot:xlabel='School_Type', ylabel='Exam_Score'>"
      ]
     },
     "execution_count": 104,
     "metadata": {},
     "output_type": "execute_result"
    },
    {
     "data": {
      "image/png": "[encoded data removed]",
      "text/plain": [
       "<Figure size 640x480 with 1 Axes>"
      ]
     },
     "metadata": {},
     "output_type": "display_data"
    }
   ],
   "source": [
    "sns.boxplot(data=df, x=\"School_Type\", y=\"Exam_Score\", hue=\"Access_to_Resources\", saturation=0.75, fill=True, dodge='auto', width=0.9,whis=2.5, linecolor='auto')"
   ]
  },
  {
   "cell_type": "code",
   "execution_count": 107,
   "metadata": {},
   "outputs": [
    {
     "data": {
      "text/plain": [
       "<AxesSubplot:xlabel='Distance_from_Home', ylabel='Exam_Score'>"
      ]
     },
     "execution_count": 107,
     "metadata": {},
     "output_type": "execute_result"
    },
    {
     "data": {
      "image/png": "[encoded data removed]",
      "text/plain": [
       "<Figure size 640x480 with 1 Axes>"
      ]
     },
     "metadata": {},
     "output_type": "display_data"
    }
   ],
   "source": [
    "sns.boxplot(data=df, x=\"Distance_from_Home\", y=\"Exam_Score\", hue=\"Internet_Access\", saturation=0.75, fill=True, dodge='auto', width=0.9,whis=2.5, linecolor='auto')"
   ]
  },
  {
   "cell_type": "markdown",
   "metadata": {},
   "source": [
    "#### Podemos ver que o acesso à internet não influencia muito nas notas do exame :)"
   ]
  },
  {
   "cell_type": "code",
   "execution_count": 124,
   "metadata": {},
   "outputs": [
    {
     "data": {
      "image/png": "[encoded data removed]",
      "text/plain": [
       "<Figure size 640x480 with 1 Axes>"
      ]
     },
     "metadata": {},
     "output_type": "display_data"
    }
   ],
   "source": [
    "sns.barplot(x='School_Type', y='Tutoring_Sessions', data = df, hue='Gender', palette=\"pastel\");"
   ]
  },
  {
   "cell_type": "code",
   "execution_count": 125,
   "metadata": {},
   "outputs": [
    {
     "data": {
      "image/png": "[encoded data removed]",
      "text/plain": [
       "<Figure size 1500x800 with 1 Axes>"
      ]
     },
     "metadata": {},
     "output_type": "display_data"
    }
   ],
   "source": [
    "plt.figure(figsize=(15, 8))\n",
    "sns.histplot(df, x='Hours_Studied', hue='Gender')\n",
    "\n",
    "\n",
    "plt.show()"
   ]
  },
  {
   "cell_type": "code",
   "execution_count": null,
   "metadata": {},
   "outputs": [],
   "source": []
  },
  {
   "cell_type": "markdown",
   "metadata": {},
   "source": [
    "### Preparação do dataset para a modelagem"
   ]
  },
  {
   "cell_type": "code",
   "execution_count": 73,
   "metadata": {},
   "outputs": [],
   "source": [
    "# backup do dataset\n",
    "df_bkp = df.copy()"
   ]
  },
  {
   "cell_type": "code",
   "execution_count": 63,
   "metadata": {},
   "outputs": [],
   "source": [
    "df = df_bkp"
   ]
  },
  {
   "cell_type": "code",
   "execution_count": 74,
   "metadata": {},
   "outputs": [],
   "source": [
    "cat_LMH = ['Parental_Involvement', 'Access_to_Resources',\n",
    "           'Motivation_Level', 'Family_Income', 'Teacher_Quality']"
   ]
  },
  {
   "cell_type": "code",
   "execution_count": 75,
   "metadata": {},
   "outputs": [],
   "source": [
    "assortment_dict = {'Low': '1',  'Medium': '2', 'High': '3'}\n",
    "df[cat_LMH] = df[cat_LMH].replace(assortment_dict )"
   ]
  },
  {
   "cell_type": "code",
   "execution_count": 76,
   "metadata": {},
   "outputs": [],
   "source": [
    "for col in cat_LMH:\n",
    "    df[col] = pd.to_numeric(df[col], errors='coerce')"
   ]
  },
  {
   "cell_type": "code",
   "execution_count": 77,
   "metadata": {},
   "outputs": [
    {
     "data": {
      "text/plain": [
       "Index(['Extracurricular_Activities', 'Internet_Access', 'School_Type',\n",
       "       'Peer_Influence', 'Learning_Disabilities', 'Parental_Education_Level',\n",
       "       'Distance_from_Home', 'Gender'],\n",
       "      dtype='object')"
      ]
     },
     "execution_count": 77,
     "metadata": {},
     "output_type": "execute_result"
    }
   ],
   "source": [
    "cols_string = df.select_dtypes(include = 'object').columns\n",
    "cols_string"
   ]
  },
  {
   "cell_type": "code",
   "execution_count": 78,
   "metadata": {},
   "outputs": [],
   "source": [
    "df1 = pd.get_dummies(df, columns=cols_string)"
   ]
  },
  {
   "cell_type": "code",
   "execution_count": 79,
   "metadata": {},
   "outputs": [
    {
     "data": {
      "text/html": [
       "<div>\n",
       "<style scoped>\n",
       "    .dataframe tbody tr th:only-of-type {\n",
       "        vertical-align: middle;\n",
       "    }\n",
       "\n",
       "    .dataframe tbody tr th {\n",
       "        vertical-align: top;\n",
       "    }\n",
       "\n",
       "    .dataframe thead th {\n",
       "        text-align: right;\n",
       "    }\n",
       "</style>\n",
       "<table border=\"1\" class=\"dataframe\">\n",
       "  <thead>\n",
       "    <tr style=\"text-align: right;\">\n",
       "      <th></th>\n",
       "      <th>Hours_Studied</th>\n",
       "      <th>Attendance</th>\n",
       "      <th>Parental_Involvement</th>\n",
       "      <th>Access_to_Resources</th>\n",
       "      <th>Sleep_Hours</th>\n",
       "      <th>Previous_Scores</th>\n",
       "      <th>Motivation_Level</th>\n",
       "      <th>Tutoring_Sessions</th>\n",
       "      <th>Family_Income</th>\n",
       "      <th>Teacher_Quality</th>\n",
       "      <th>Physical_Activity</th>\n",
       "      <th>Exam_Score</th>\n",
       "      <th>Extracurricular_Activities_No</th>\n",
       "      <th>Extracurricular_Activities_Yes</th>\n",
       "      <th>Internet_Access_No</th>\n",
       "      <th>Internet_Access_Yes</th>\n",
       "      <th>School_Type_Private</th>\n",
       "      <th>School_Type_Public</th>\n",
       "      <th>Peer_Influence_Negative</th>\n",
       "      <th>Peer_Influence_Neutral</th>\n",
       "      <th>Peer_Influence_Positive</th>\n",
       "      <th>Learning_Disabilities_No</th>\n",
       "      <th>Learning_Disabilities_Yes</th>\n",
       "      <th>Parental_Education_Level_College</th>\n",
       "      <th>Parental_Education_Level_High School</th>\n",
       "      <th>Parental_Education_Level_Postgraduate</th>\n",
       "      <th>Distance_from_Home_Far</th>\n",
       "      <th>Distance_from_Home_Moderate</th>\n",
       "      <th>Distance_from_Home_Near</th>\n",
       "      <th>Gender_Female</th>\n",
       "      <th>Gender_Male</th>\n",
       "    </tr>\n",
       "  </thead>\n",
       "  <tbody>\n",
       "    <tr>\n",
       "      <th>0</th>\n",
       "      <td>23</td>\n",
       "      <td>84</td>\n",
       "      <td>1</td>\n",
       "      <td>3</td>\n",
       "      <td>7</td>\n",
       "      <td>73</td>\n",
       "      <td>1</td>\n",
       "      <td>0</td>\n",
       "      <td>1</td>\n",
       "      <td>2</td>\n",
       "      <td>3</td>\n",
       "      <td>67</td>\n",
       "      <td>True</td>\n",
       "      <td>False</td>\n",
       "      <td>False</td>\n",
       "      <td>True</td>\n",
       "      <td>False</td>\n",
       "      <td>True</td>\n",
       "      <td>False</td>\n",
       "      <td>False</td>\n",
       "      <td>True</td>\n",
       "      <td>True</td>\n",
       "      <td>False</td>\n",
       "      <td>False</td>\n",
       "      <td>True</td>\n",
       "      <td>False</td>\n",
       "      <td>False</td>\n",
       "      <td>False</td>\n",
       "      <td>True</td>\n",
       "      <td>False</td>\n",
       "      <td>True</td>\n",
       "    </tr>\n",
       "    <tr>\n",
       "      <th>1</th>\n",
       "      <td>19</td>\n",
       "      <td>64</td>\n",
       "      <td>1</td>\n",
       "      <td>2</td>\n",
       "      <td>8</td>\n",
       "      <td>59</td>\n",
       "      <td>1</td>\n",
       "      <td>2</td>\n",
       "      <td>2</td>\n",
       "      <td>2</td>\n",
       "      <td>4</td>\n",
       "      <td>61</td>\n",
       "      <td>True</td>\n",
       "      <td>False</td>\n",
       "      <td>False</td>\n",
       "      <td>True</td>\n",
       "      <td>False</td>\n",
       "      <td>True</td>\n",
       "      <td>True</td>\n",
       "      <td>False</td>\n",
       "      <td>False</td>\n",
       "      <td>True</td>\n",
       "      <td>False</td>\n",
       "      <td>True</td>\n",
       "      <td>False</td>\n",
       "      <td>False</td>\n",
       "      <td>False</td>\n",
       "      <td>True</td>\n",
       "      <td>False</td>\n",
       "      <td>True</td>\n",
       "      <td>False</td>\n",
       "    </tr>\n",
       "    <tr>\n",
       "      <th>2</th>\n",
       "      <td>24</td>\n",
       "      <td>98</td>\n",
       "      <td>2</td>\n",
       "      <td>2</td>\n",
       "      <td>7</td>\n",
       "      <td>91</td>\n",
       "      <td>2</td>\n",
       "      <td>2</td>\n",
       "      <td>2</td>\n",
       "      <td>2</td>\n",
       "      <td>4</td>\n",
       "      <td>74</td>\n",
       "      <td>False</td>\n",
       "      <td>True</td>\n",
       "      <td>False</td>\n",
       "      <td>True</td>\n",
       "      <td>False</td>\n",
       "      <td>True</td>\n",
       "      <td>False</td>\n",
       "      <td>True</td>\n",
       "      <td>False</td>\n",
       "      <td>True</td>\n",
       "      <td>False</td>\n",
       "      <td>False</td>\n",
       "      <td>False</td>\n",
       "      <td>True</td>\n",
       "      <td>False</td>\n",
       "      <td>False</td>\n",
       "      <td>True</td>\n",
       "      <td>False</td>\n",
       "      <td>True</td>\n",
       "    </tr>\n",
       "    <tr>\n",
       "      <th>3</th>\n",
       "      <td>29</td>\n",
       "      <td>89</td>\n",
       "      <td>1</td>\n",
       "      <td>2</td>\n",
       "      <td>8</td>\n",
       "      <td>98</td>\n",
       "      <td>2</td>\n",
       "      <td>1</td>\n",
       "      <td>2</td>\n",
       "      <td>2</td>\n",
       "      <td>4</td>\n",
       "      <td>71</td>\n",
       "      <td>False</td>\n",
       "      <td>True</td>\n",
       "      <td>False</td>\n",
       "      <td>True</td>\n",
       "      <td>False</td>\n",
       "      <td>True</td>\n",
       "      <td>True</td>\n",
       "      <td>False</td>\n",
       "      <td>False</td>\n",
       "      <td>True</td>\n",
       "      <td>False</td>\n",
       "      <td>False</td>\n",
       "      <td>True</td>\n",
       "      <td>False</td>\n",
       "      <td>False</td>\n",
       "      <td>True</td>\n",
       "      <td>False</td>\n",
       "      <td>False</td>\n",
       "      <td>True</td>\n",
       "    </tr>\n",
       "    <tr>\n",
       "      <th>4</th>\n",
       "      <td>19</td>\n",
       "      <td>92</td>\n",
       "      <td>2</td>\n",
       "      <td>2</td>\n",
       "      <td>6</td>\n",
       "      <td>65</td>\n",
       "      <td>2</td>\n",
       "      <td>3</td>\n",
       "      <td>2</td>\n",
       "      <td>3</td>\n",
       "      <td>4</td>\n",
       "      <td>70</td>\n",
       "      <td>False</td>\n",
       "      <td>True</td>\n",
       "      <td>False</td>\n",
       "      <td>True</td>\n",
       "      <td>False</td>\n",
       "      <td>True</td>\n",
       "      <td>False</td>\n",
       "      <td>True</td>\n",
       "      <td>False</td>\n",
       "      <td>True</td>\n",
       "      <td>False</td>\n",
       "      <td>True</td>\n",
       "      <td>False</td>\n",
       "      <td>False</td>\n",
       "      <td>False</td>\n",
       "      <td>False</td>\n",
       "      <td>True</td>\n",
       "      <td>True</td>\n",
       "      <td>False</td>\n",
       "    </tr>\n",
       "    <tr>\n",
       "      <th>...</th>\n",
       "      <td>...</td>\n",
       "      <td>...</td>\n",
       "      <td>...</td>\n",
       "      <td>...</td>\n",
       "      <td>...</td>\n",
       "      <td>...</td>\n",
       "      <td>...</td>\n",
       "      <td>...</td>\n",
       "      <td>...</td>\n",
       "      <td>...</td>\n",
       "      <td>...</td>\n",
       "      <td>...</td>\n",
       "      <td>...</td>\n",
       "      <td>...</td>\n",
       "      <td>...</td>\n",
       "      <td>...</td>\n",
       "      <td>...</td>\n",
       "      <td>...</td>\n",
       "      <td>...</td>\n",
       "      <td>...</td>\n",
       "      <td>...</td>\n",
       "      <td>...</td>\n",
       "      <td>...</td>\n",
       "      <td>...</td>\n",
       "      <td>...</td>\n",
       "      <td>...</td>\n",
       "      <td>...</td>\n",
       "      <td>...</td>\n",
       "      <td>...</td>\n",
       "      <td>...</td>\n",
       "      <td>...</td>\n",
       "    </tr>\n",
       "    <tr>\n",
       "      <th>6602</th>\n",
       "      <td>25</td>\n",
       "      <td>69</td>\n",
       "      <td>3</td>\n",
       "      <td>2</td>\n",
       "      <td>7</td>\n",
       "      <td>76</td>\n",
       "      <td>2</td>\n",
       "      <td>1</td>\n",
       "      <td>3</td>\n",
       "      <td>2</td>\n",
       "      <td>2</td>\n",
       "      <td>68</td>\n",
       "      <td>True</td>\n",
       "      <td>False</td>\n",
       "      <td>False</td>\n",
       "      <td>True</td>\n",
       "      <td>False</td>\n",
       "      <td>True</td>\n",
       "      <td>False</td>\n",
       "      <td>False</td>\n",
       "      <td>True</td>\n",
       "      <td>True</td>\n",
       "      <td>False</td>\n",
       "      <td>False</td>\n",
       "      <td>True</td>\n",
       "      <td>False</td>\n",
       "      <td>False</td>\n",
       "      <td>False</td>\n",
       "      <td>True</td>\n",
       "      <td>True</td>\n",
       "      <td>False</td>\n",
       "    </tr>\n",
       "    <tr>\n",
       "      <th>6603</th>\n",
       "      <td>23</td>\n",
       "      <td>76</td>\n",
       "      <td>3</td>\n",
       "      <td>2</td>\n",
       "      <td>8</td>\n",
       "      <td>81</td>\n",
       "      <td>2</td>\n",
       "      <td>3</td>\n",
       "      <td>1</td>\n",
       "      <td>3</td>\n",
       "      <td>2</td>\n",
       "      <td>69</td>\n",
       "      <td>True</td>\n",
       "      <td>False</td>\n",
       "      <td>False</td>\n",
       "      <td>True</td>\n",
       "      <td>False</td>\n",
       "      <td>True</td>\n",
       "      <td>False</td>\n",
       "      <td>False</td>\n",
       "      <td>True</td>\n",
       "      <td>True</td>\n",
       "      <td>False</td>\n",
       "      <td>False</td>\n",
       "      <td>True</td>\n",
       "      <td>False</td>\n",
       "      <td>False</td>\n",
       "      <td>False</td>\n",
       "      <td>True</td>\n",
       "      <td>True</td>\n",
       "      <td>False</td>\n",
       "    </tr>\n",
       "    <tr>\n",
       "      <th>6604</th>\n",
       "      <td>20</td>\n",
       "      <td>90</td>\n",
       "      <td>2</td>\n",
       "      <td>1</td>\n",
       "      <td>6</td>\n",
       "      <td>65</td>\n",
       "      <td>1</td>\n",
       "      <td>3</td>\n",
       "      <td>1</td>\n",
       "      <td>2</td>\n",
       "      <td>2</td>\n",
       "      <td>68</td>\n",
       "      <td>False</td>\n",
       "      <td>True</td>\n",
       "      <td>False</td>\n",
       "      <td>True</td>\n",
       "      <td>False</td>\n",
       "      <td>True</td>\n",
       "      <td>True</td>\n",
       "      <td>False</td>\n",
       "      <td>False</td>\n",
       "      <td>True</td>\n",
       "      <td>False</td>\n",
       "      <td>False</td>\n",
       "      <td>False</td>\n",
       "      <td>True</td>\n",
       "      <td>False</td>\n",
       "      <td>False</td>\n",
       "      <td>True</td>\n",
       "      <td>True</td>\n",
       "      <td>False</td>\n",
       "    </tr>\n",
       "    <tr>\n",
       "      <th>6605</th>\n",
       "      <td>10</td>\n",
       "      <td>86</td>\n",
       "      <td>3</td>\n",
       "      <td>3</td>\n",
       "      <td>6</td>\n",
       "      <td>91</td>\n",
       "      <td>3</td>\n",
       "      <td>2</td>\n",
       "      <td>1</td>\n",
       "      <td>2</td>\n",
       "      <td>3</td>\n",
       "      <td>68</td>\n",
       "      <td>False</td>\n",
       "      <td>True</td>\n",
       "      <td>False</td>\n",
       "      <td>True</td>\n",
       "      <td>True</td>\n",
       "      <td>False</td>\n",
       "      <td>False</td>\n",
       "      <td>False</td>\n",
       "      <td>True</td>\n",
       "      <td>True</td>\n",
       "      <td>False</td>\n",
       "      <td>False</td>\n",
       "      <td>True</td>\n",
       "      <td>False</td>\n",
       "      <td>True</td>\n",
       "      <td>False</td>\n",
       "      <td>False</td>\n",
       "      <td>True</td>\n",
       "      <td>False</td>\n",
       "    </tr>\n",
       "    <tr>\n",
       "      <th>6606</th>\n",
       "      <td>15</td>\n",
       "      <td>67</td>\n",
       "      <td>2</td>\n",
       "      <td>1</td>\n",
       "      <td>9</td>\n",
       "      <td>94</td>\n",
       "      <td>2</td>\n",
       "      <td>0</td>\n",
       "      <td>2</td>\n",
       "      <td>2</td>\n",
       "      <td>4</td>\n",
       "      <td>64</td>\n",
       "      <td>False</td>\n",
       "      <td>True</td>\n",
       "      <td>False</td>\n",
       "      <td>True</td>\n",
       "      <td>False</td>\n",
       "      <td>True</td>\n",
       "      <td>False</td>\n",
       "      <td>False</td>\n",
       "      <td>True</td>\n",
       "      <td>True</td>\n",
       "      <td>False</td>\n",
       "      <td>False</td>\n",
       "      <td>False</td>\n",
       "      <td>True</td>\n",
       "      <td>False</td>\n",
       "      <td>False</td>\n",
       "      <td>True</td>\n",
       "      <td>False</td>\n",
       "      <td>True</td>\n",
       "    </tr>\n",
       "  </tbody>\n",
       "</table>\n",
       "<p>6378 rows × 31 columns</p>\n",
       "</div>"
      ],
      "text/plain": [
       "      Hours_Studied  Attendance  Parental_Involvement  Access_to_Resources  \\\n",
       "0                23          84                     1                    3   \n",
       "1                19          64                     1                    2   \n",
       "2                24          98                     2                    2   \n",
       "3                29          89                     1                    2   \n",
       "4                19          92                     2                    2   \n",
       "...             ...         ...                   ...                  ...   \n",
       "6602             25          69                     3                    2   \n",
       "6603             23          76                     3                    2   \n",
       "6604             20          90                     2                    1   \n",
       "6605             10          86                     3                    3   \n",
       "6606             15          67                     2                    1   \n",
       "\n",
       "      Sleep_Hours  Previous_Scores  Motivation_Level  Tutoring_Sessions  \\\n",
       "0               7               73                 1                  0   \n",
       "1               8               59                 1                  2   \n",
       "2               7               91                 2                  2   \n",
       "3               8               98                 2                  1   \n",
       "4               6               65                 2                  3   \n",
       "...           ...              ...               ...                ...   \n",
       "6602            7               76                 2                  1   \n",
       "6603            8               81                 2                  3   \n",
       "6604            6               65                 1                  3   \n",
       "6605            6               91                 3                  2   \n",
       "6606            9               94                 2                  0   \n",
       "\n",
       "      Family_Income  Teacher_Quality  Physical_Activity  Exam_Score  \\\n",
       "0                 1                2                  3          67   \n",
       "1                 2                2                  4          61   \n",
       "2                 2                2                  4          74   \n",
       "3                 2                2                  4          71   \n",
       "4                 2                3                  4          70   \n",
       "...             ...              ...                ...         ...   \n",
       "6602              3                2                  2          68   \n",
       "6603              1                3                  2          69   \n",
       "6604              1                2                  2          68   \n",
       "6605              1                2                  3          68   \n",
       "6606              2                2                  4          64   \n",
       "\n",
       "      Extracurricular_Activities_No  Extracurricular_Activities_Yes  \\\n",
       "0                              True                           False   \n",
       "1                              True                           False   \n",
       "2                             False                            True   \n",
       "3                             False                            True   \n",
       "4                             False                            True   \n",
       "...                             ...                             ...   \n",
       "6602                           True                           False   \n",
       "6603                           True                           False   \n",
       "6604                          False                            True   \n",
       "6605                          False                            True   \n",
       "6606                          False                            True   \n",
       "\n",
       "      Internet_Access_No  Internet_Access_Yes  School_Type_Private  \\\n",
       "0                  False                 True                False   \n",
       "1                  False                 True                False   \n",
       "2                  False                 True                False   \n",
       "3                  False                 True                False   \n",
       "4                  False                 True                False   \n",
       "...                  ...                  ...                  ...   \n",
       "6602               False                 True                False   \n",
       "6603               False                 True                False   \n",
       "6604               False                 True                False   \n",
       "6605               False                 True                 True   \n",
       "6606               False                 True                False   \n",
       "\n",
       "      School_Type_Public  Peer_Influence_Negative  Peer_Influence_Neutral  \\\n",
       "0                   True                    False                   False   \n",
       "1                   True                     True                   False   \n",
       "2                   True                    False                    True   \n",
       "3                   True                     True                   False   \n",
       "4                   True                    False                    True   \n",
       "...                  ...                      ...                     ...   \n",
       "6602                True                    False                   False   \n",
       "6603                True                    False                   False   \n",
       "6604                True                     True                   False   \n",
       "6605               False                    False                   False   \n",
       "6606                True                    False                   False   \n",
       "\n",
       "      Peer_Influence_Positive  Learning_Disabilities_No  \\\n",
       "0                        True                      True   \n",
       "1                       False                      True   \n",
       "2                       False                      True   \n",
       "3                       False                      True   \n",
       "4                       False                      True   \n",
       "...                       ...                       ...   \n",
       "6602                     True                      True   \n",
       "6603                     True                      True   \n",
       "6604                    False                      True   \n",
       "6605                     True                      True   \n",
       "6606                     True                      True   \n",
       "\n",
       "      Learning_Disabilities_Yes  Parental_Education_Level_College  \\\n",
       "0                         False                             False   \n",
       "1                         False                              True   \n",
       "2                         False                             False   \n",
       "3                         False                             False   \n",
       "4                         False                              True   \n",
       "...                         ...                               ...   \n",
       "6602                      False                             False   \n",
       "6603                      False                             False   \n",
       "6604                      False                             False   \n",
       "6605                      False                             False   \n",
       "6606                      False                             False   \n",
       "\n",
       "      Parental_Education_Level_High School  \\\n",
       "0                                     True   \n",
       "1                                    False   \n",
       "2                                    False   \n",
       "3                                     True   \n",
       "4                                    False   \n",
       "...                                    ...   \n",
       "6602                                  True   \n",
       "6603                                  True   \n",
       "6604                                 False   \n",
       "6605                                  True   \n",
       "6606                                 False   \n",
       "\n",
       "      Parental_Education_Level_Postgraduate  Distance_from_Home_Far  \\\n",
       "0                                     False                   False   \n",
       "1                                     False                   False   \n",
       "2                                      True                   False   \n",
       "3                                     False                   False   \n",
       "4                                     False                   False   \n",
       "...                                     ...                     ...   \n",
       "6602                                  False                   False   \n",
       "6603                                  False                   False   \n",
       "6604                                   True                   False   \n",
       "6605                                  False                    True   \n",
       "6606                                   True                   False   \n",
       "\n",
       "      Distance_from_Home_Moderate  Distance_from_Home_Near  Gender_Female  \\\n",
       "0                           False                     True          False   \n",
       "1                            True                    False           True   \n",
       "2                           False                     True          False   \n",
       "3                            True                    False          False   \n",
       "4                           False                     True           True   \n",
       "...                           ...                      ...            ...   \n",
       "6602                        False                     True           True   \n",
       "6603                        False                     True           True   \n",
       "6604                        False                     True           True   \n",
       "6605                        False                    False           True   \n",
       "6606                        False                     True          False   \n",
       "\n",
       "      Gender_Male  \n",
       "0            True  \n",
       "1           False  \n",
       "2            True  \n",
       "3            True  \n",
       "4           False  \n",
       "...           ...  \n",
       "6602        False  \n",
       "6603        False  \n",
       "6604        False  \n",
       "6605        False  \n",
       "6606         True  \n",
       "\n",
       "[6378 rows x 31 columns]"
      ]
     },
     "execution_count": 79,
     "metadata": {},
     "output_type": "execute_result"
    }
   ],
   "source": [
    "df1"
   ]
  },
  {
   "cell_type": "code",
   "execution_count": 18,
   "metadata": {},
   "outputs": [],
   "source": [
    "# from sklearn.preprocessing import OneHotEncoder\n",
    "\n",
    "# cols_cat = df.select_dtypes(include = 'object').columns\n",
    "\n",
    "# encoder = OneHotEncoder(sparse_output=False, drop='first')  \n",
    "# encoded_features = encoder.fit_transform(df[cols_cat])\n",
    "# encoded_df = pd.DataFrame(encoded_features, columns=encoder.get_feature_names_out(cols_cat))\n",
    "\n",
    "# df_final = pd.concat([df.drop(columns=cols_cat), encoded_df], axis=1)\n"
   ]
  },
  {
   "cell_type": "code",
   "execution_count": 33,
   "metadata": {},
   "outputs": [
    {
     "data": {
      "text/plain": [
       "Hours_Studied                            int64\n",
       "Attendance                               int64\n",
       "Parental_Involvement                     int64\n",
       "Access_to_Resources                      int64\n",
       "Sleep_Hours                              int64\n",
       "Previous_Scores                          int64\n",
       "Motivation_Level                         int64\n",
       "Tutoring_Sessions                        int64\n",
       "Family_Income                            int64\n",
       "Teacher_Quality                          int64\n",
       "Physical_Activity                        int64\n",
       "Exam_Score                               int64\n",
       "Extracurricular_Activities_No             bool\n",
       "Extracurricular_Activities_Yes            bool\n",
       "Internet_Access_No                        bool\n",
       "Internet_Access_Yes                       bool\n",
       "School_Type_Private                       bool\n",
       "School_Type_Public                        bool\n",
       "Peer_Influence_Negative                   bool\n",
       "Peer_Influence_Neutral                    bool\n",
       "Peer_Influence_Positive                   bool\n",
       "Learning_Disabilities_No                  bool\n",
       "Learning_Disabilities_Yes                 bool\n",
       "Parental_Education_Level_College          bool\n",
       "Parental_Education_Level_High School      bool\n",
       "Parental_Education_Level_Postgraduate     bool\n",
       "Distance_from_Home_Far                    bool\n",
       "Distance_from_Home_Moderate               bool\n",
       "Distance_from_Home_Near                   bool\n",
       "Gender_Female                             bool\n",
       "Gender_Male                               bool\n",
       "dtype: object"
      ]
     },
     "execution_count": 33,
     "metadata": {},
     "output_type": "execute_result"
    }
   ],
   "source": [
    "df1.dtypes"
   ]
  },
  {
   "cell_type": "code",
   "execution_count": 84,
   "metadata": {},
   "outputs": [],
   "source": [
    "cols_to_normalize = ['Hours_Studied', 'Attendance', 'Sleep_Hours', 'Previous_Scores', 'Tutoring_Sessions', 'Physical_Activity']\n"
   ]
  },
  {
   "cell_type": "code",
   "execution_count": 85,
   "metadata": {},
   "outputs": [],
   "source": [
    "df1_bkp = df1.copy()"
   ]
  },
  {
   "cell_type": "code",
   "execution_count": 86,
   "metadata": {},
   "outputs": [
    {
     "data": {
      "text/html": [
       "<div>\n",
       "<style scoped>\n",
       "    .dataframe tbody tr th:only-of-type {\n",
       "        vertical-align: middle;\n",
       "    }\n",
       "\n",
       "    .dataframe tbody tr th {\n",
       "        vertical-align: top;\n",
       "    }\n",
       "\n",
       "    .dataframe thead th {\n",
       "        text-align: right;\n",
       "    }\n",
       "</style>\n",
       "<table border=\"1\" class=\"dataframe\">\n",
       "  <thead>\n",
       "    <tr style=\"text-align: right;\">\n",
       "      <th></th>\n",
       "      <th>Hours_Studied</th>\n",
       "      <th>Attendance</th>\n",
       "      <th>Parental_Involvement</th>\n",
       "      <th>Access_to_Resources</th>\n",
       "      <th>Sleep_Hours</th>\n",
       "      <th>Previous_Scores</th>\n",
       "      <th>Motivation_Level</th>\n",
       "      <th>Tutoring_Sessions</th>\n",
       "      <th>Family_Income</th>\n",
       "      <th>Teacher_Quality</th>\n",
       "      <th>Physical_Activity</th>\n",
       "      <th>Exam_Score</th>\n",
       "      <th>Extracurricular_Activities_No</th>\n",
       "      <th>Extracurricular_Activities_Yes</th>\n",
       "      <th>Internet_Access_No</th>\n",
       "      <th>Internet_Access_Yes</th>\n",
       "      <th>School_Type_Private</th>\n",
       "      <th>School_Type_Public</th>\n",
       "      <th>Peer_Influence_Negative</th>\n",
       "      <th>Peer_Influence_Neutral</th>\n",
       "      <th>Peer_Influence_Positive</th>\n",
       "      <th>Learning_Disabilities_No</th>\n",
       "      <th>Learning_Disabilities_Yes</th>\n",
       "      <th>Parental_Education_Level_College</th>\n",
       "      <th>Parental_Education_Level_High School</th>\n",
       "      <th>Parental_Education_Level_Postgraduate</th>\n",
       "      <th>Distance_from_Home_Far</th>\n",
       "      <th>Distance_from_Home_Moderate</th>\n",
       "      <th>Distance_from_Home_Near</th>\n",
       "      <th>Gender_Female</th>\n",
       "      <th>Gender_Male</th>\n",
       "    </tr>\n",
       "  </thead>\n",
       "  <tbody>\n",
       "    <tr>\n",
       "      <th>0</th>\n",
       "      <td>23</td>\n",
       "      <td>84</td>\n",
       "      <td>1</td>\n",
       "      <td>3</td>\n",
       "      <td>7</td>\n",
       "      <td>73</td>\n",
       "      <td>1</td>\n",
       "      <td>0</td>\n",
       "      <td>1</td>\n",
       "      <td>2</td>\n",
       "      <td>3</td>\n",
       "      <td>67</td>\n",
       "      <td>True</td>\n",
       "      <td>False</td>\n",
       "      <td>False</td>\n",
       "      <td>True</td>\n",
       "      <td>False</td>\n",
       "      <td>True</td>\n",
       "      <td>False</td>\n",
       "      <td>False</td>\n",
       "      <td>True</td>\n",
       "      <td>True</td>\n",
       "      <td>False</td>\n",
       "      <td>False</td>\n",
       "      <td>True</td>\n",
       "      <td>False</td>\n",
       "      <td>False</td>\n",
       "      <td>False</td>\n",
       "      <td>True</td>\n",
       "      <td>False</td>\n",
       "      <td>True</td>\n",
       "    </tr>\n",
       "    <tr>\n",
       "      <th>1</th>\n",
       "      <td>19</td>\n",
       "      <td>64</td>\n",
       "      <td>1</td>\n",
       "      <td>2</td>\n",
       "      <td>8</td>\n",
       "      <td>59</td>\n",
       "      <td>1</td>\n",
       "      <td>2</td>\n",
       "      <td>2</td>\n",
       "      <td>2</td>\n",
       "      <td>4</td>\n",
       "      <td>61</td>\n",
       "      <td>True</td>\n",
       "      <td>False</td>\n",
       "      <td>False</td>\n",
       "      <td>True</td>\n",
       "      <td>False</td>\n",
       "      <td>True</td>\n",
       "      <td>True</td>\n",
       "      <td>False</td>\n",
       "      <td>False</td>\n",
       "      <td>True</td>\n",
       "      <td>False</td>\n",
       "      <td>True</td>\n",
       "      <td>False</td>\n",
       "      <td>False</td>\n",
       "      <td>False</td>\n",
       "      <td>True</td>\n",
       "      <td>False</td>\n",
       "      <td>True</td>\n",
       "      <td>False</td>\n",
       "    </tr>\n",
       "    <tr>\n",
       "      <th>2</th>\n",
       "      <td>24</td>\n",
       "      <td>98</td>\n",
       "      <td>2</td>\n",
       "      <td>2</td>\n",
       "      <td>7</td>\n",
       "      <td>91</td>\n",
       "      <td>2</td>\n",
       "      <td>2</td>\n",
       "      <td>2</td>\n",
       "      <td>2</td>\n",
       "      <td>4</td>\n",
       "      <td>74</td>\n",
       "      <td>False</td>\n",
       "      <td>True</td>\n",
       "      <td>False</td>\n",
       "      <td>True</td>\n",
       "      <td>False</td>\n",
       "      <td>True</td>\n",
       "      <td>False</td>\n",
       "      <td>True</td>\n",
       "      <td>False</td>\n",
       "      <td>True</td>\n",
       "      <td>False</td>\n",
       "      <td>False</td>\n",
       "      <td>False</td>\n",
       "      <td>True</td>\n",
       "      <td>False</td>\n",
       "      <td>False</td>\n",
       "      <td>True</td>\n",
       "      <td>False</td>\n",
       "      <td>True</td>\n",
       "    </tr>\n",
       "    <tr>\n",
       "      <th>3</th>\n",
       "      <td>29</td>\n",
       "      <td>89</td>\n",
       "      <td>1</td>\n",
       "      <td>2</td>\n",
       "      <td>8</td>\n",
       "      <td>98</td>\n",
       "      <td>2</td>\n",
       "      <td>1</td>\n",
       "      <td>2</td>\n",
       "      <td>2</td>\n",
       "      <td>4</td>\n",
       "      <td>71</td>\n",
       "      <td>False</td>\n",
       "      <td>True</td>\n",
       "      <td>False</td>\n",
       "      <td>True</td>\n",
       "      <td>False</td>\n",
       "      <td>True</td>\n",
       "      <td>True</td>\n",
       "      <td>False</td>\n",
       "      <td>False</td>\n",
       "      <td>True</td>\n",
       "      <td>False</td>\n",
       "      <td>False</td>\n",
       "      <td>True</td>\n",
       "      <td>False</td>\n",
       "      <td>False</td>\n",
       "      <td>True</td>\n",
       "      <td>False</td>\n",
       "      <td>False</td>\n",
       "      <td>True</td>\n",
       "    </tr>\n",
       "    <tr>\n",
       "      <th>4</th>\n",
       "      <td>19</td>\n",
       "      <td>92</td>\n",
       "      <td>2</td>\n",
       "      <td>2</td>\n",
       "      <td>6</td>\n",
       "      <td>65</td>\n",
       "      <td>2</td>\n",
       "      <td>3</td>\n",
       "      <td>2</td>\n",
       "      <td>3</td>\n",
       "      <td>4</td>\n",
       "      <td>70</td>\n",
       "      <td>False</td>\n",
       "      <td>True</td>\n",
       "      <td>False</td>\n",
       "      <td>True</td>\n",
       "      <td>False</td>\n",
       "      <td>True</td>\n",
       "      <td>False</td>\n",
       "      <td>True</td>\n",
       "      <td>False</td>\n",
       "      <td>True</td>\n",
       "      <td>False</td>\n",
       "      <td>True</td>\n",
       "      <td>False</td>\n",
       "      <td>False</td>\n",
       "      <td>False</td>\n",
       "      <td>False</td>\n",
       "      <td>True</td>\n",
       "      <td>True</td>\n",
       "      <td>False</td>\n",
       "    </tr>\n",
       "    <tr>\n",
       "      <th>...</th>\n",
       "      <td>...</td>\n",
       "      <td>...</td>\n",
       "      <td>...</td>\n",
       "      <td>...</td>\n",
       "      <td>...</td>\n",
       "      <td>...</td>\n",
       "      <td>...</td>\n",
       "      <td>...</td>\n",
       "      <td>...</td>\n",
       "      <td>...</td>\n",
       "      <td>...</td>\n",
       "      <td>...</td>\n",
       "      <td>...</td>\n",
       "      <td>...</td>\n",
       "      <td>...</td>\n",
       "      <td>...</td>\n",
       "      <td>...</td>\n",
       "      <td>...</td>\n",
       "      <td>...</td>\n",
       "      <td>...</td>\n",
       "      <td>...</td>\n",
       "      <td>...</td>\n",
       "      <td>...</td>\n",
       "      <td>...</td>\n",
       "      <td>...</td>\n",
       "      <td>...</td>\n",
       "      <td>...</td>\n",
       "      <td>...</td>\n",
       "      <td>...</td>\n",
       "      <td>...</td>\n",
       "      <td>...</td>\n",
       "    </tr>\n",
       "    <tr>\n",
       "      <th>6602</th>\n",
       "      <td>25</td>\n",
       "      <td>69</td>\n",
       "      <td>3</td>\n",
       "      <td>2</td>\n",
       "      <td>7</td>\n",
       "      <td>76</td>\n",
       "      <td>2</td>\n",
       "      <td>1</td>\n",
       "      <td>3</td>\n",
       "      <td>2</td>\n",
       "      <td>2</td>\n",
       "      <td>68</td>\n",
       "      <td>True</td>\n",
       "      <td>False</td>\n",
       "      <td>False</td>\n",
       "      <td>True</td>\n",
       "      <td>False</td>\n",
       "      <td>True</td>\n",
       "      <td>False</td>\n",
       "      <td>False</td>\n",
       "      <td>True</td>\n",
       "      <td>True</td>\n",
       "      <td>False</td>\n",
       "      <td>False</td>\n",
       "      <td>True</td>\n",
       "      <td>False</td>\n",
       "      <td>False</td>\n",
       "      <td>False</td>\n",
       "      <td>True</td>\n",
       "      <td>True</td>\n",
       "      <td>False</td>\n",
       "    </tr>\n",
       "    <tr>\n",
       "      <th>6603</th>\n",
       "      <td>23</td>\n",
       "      <td>76</td>\n",
       "      <td>3</td>\n",
       "      <td>2</td>\n",
       "      <td>8</td>\n",
       "      <td>81</td>\n",
       "      <td>2</td>\n",
       "      <td>3</td>\n",
       "      <td>1</td>\n",
       "      <td>3</td>\n",
       "      <td>2</td>\n",
       "      <td>69</td>\n",
       "      <td>True</td>\n",
       "      <td>False</td>\n",
       "      <td>False</td>\n",
       "      <td>True</td>\n",
       "      <td>False</td>\n",
       "      <td>True</td>\n",
       "      <td>False</td>\n",
       "      <td>False</td>\n",
       "      <td>True</td>\n",
       "      <td>True</td>\n",
       "      <td>False</td>\n",
       "      <td>False</td>\n",
       "      <td>True</td>\n",
       "      <td>False</td>\n",
       "      <td>False</td>\n",
       "      <td>False</td>\n",
       "      <td>True</td>\n",
       "      <td>True</td>\n",
       "      <td>False</td>\n",
       "    </tr>\n",
       "    <tr>\n",
       "      <th>6604</th>\n",
       "      <td>20</td>\n",
       "      <td>90</td>\n",
       "      <td>2</td>\n",
       "      <td>1</td>\n",
       "      <td>6</td>\n",
       "      <td>65</td>\n",
       "      <td>1</td>\n",
       "      <td>3</td>\n",
       "      <td>1</td>\n",
       "      <td>2</td>\n",
       "      <td>2</td>\n",
       "      <td>68</td>\n",
       "      <td>False</td>\n",
       "      <td>True</td>\n",
       "      <td>False</td>\n",
       "      <td>True</td>\n",
       "      <td>False</td>\n",
       "      <td>True</td>\n",
       "      <td>True</td>\n",
       "      <td>False</td>\n",
       "      <td>False</td>\n",
       "      <td>True</td>\n",
       "      <td>False</td>\n",
       "      <td>False</td>\n",
       "      <td>False</td>\n",
       "      <td>True</td>\n",
       "      <td>False</td>\n",
       "      <td>False</td>\n",
       "      <td>True</td>\n",
       "      <td>True</td>\n",
       "      <td>False</td>\n",
       "    </tr>\n",
       "    <tr>\n",
       "      <th>6605</th>\n",
       "      <td>10</td>\n",
       "      <td>86</td>\n",
       "      <td>3</td>\n",
       "      <td>3</td>\n",
       "      <td>6</td>\n",
       "      <td>91</td>\n",
       "      <td>3</td>\n",
       "      <td>2</td>\n",
       "      <td>1</td>\n",
       "      <td>2</td>\n",
       "      <td>3</td>\n",
       "      <td>68</td>\n",
       "      <td>False</td>\n",
       "      <td>True</td>\n",
       "      <td>False</td>\n",
       "      <td>True</td>\n",
       "      <td>True</td>\n",
       "      <td>False</td>\n",
       "      <td>False</td>\n",
       "      <td>False</td>\n",
       "      <td>True</td>\n",
       "      <td>True</td>\n",
       "      <td>False</td>\n",
       "      <td>False</td>\n",
       "      <td>True</td>\n",
       "      <td>False</td>\n",
       "      <td>True</td>\n",
       "      <td>False</td>\n",
       "      <td>False</td>\n",
       "      <td>True</td>\n",
       "      <td>False</td>\n",
       "    </tr>\n",
       "    <tr>\n",
       "      <th>6606</th>\n",
       "      <td>15</td>\n",
       "      <td>67</td>\n",
       "      <td>2</td>\n",
       "      <td>1</td>\n",
       "      <td>9</td>\n",
       "      <td>94</td>\n",
       "      <td>2</td>\n",
       "      <td>0</td>\n",
       "      <td>2</td>\n",
       "      <td>2</td>\n",
       "      <td>4</td>\n",
       "      <td>64</td>\n",
       "      <td>False</td>\n",
       "      <td>True</td>\n",
       "      <td>False</td>\n",
       "      <td>True</td>\n",
       "      <td>False</td>\n",
       "      <td>True</td>\n",
       "      <td>False</td>\n",
       "      <td>False</td>\n",
       "      <td>True</td>\n",
       "      <td>True</td>\n",
       "      <td>False</td>\n",
       "      <td>False</td>\n",
       "      <td>False</td>\n",
       "      <td>True</td>\n",
       "      <td>False</td>\n",
       "      <td>False</td>\n",
       "      <td>True</td>\n",
       "      <td>False</td>\n",
       "      <td>True</td>\n",
       "    </tr>\n",
       "  </tbody>\n",
       "</table>\n",
       "<p>6378 rows × 31 columns</p>\n",
       "</div>"
      ],
      "text/plain": [
       "      Hours_Studied  Attendance  Parental_Involvement  Access_to_Resources  \\\n",
       "0                23          84                     1                    3   \n",
       "1                19          64                     1                    2   \n",
       "2                24          98                     2                    2   \n",
       "3                29          89                     1                    2   \n",
       "4                19          92                     2                    2   \n",
       "...             ...         ...                   ...                  ...   \n",
       "6602             25          69                     3                    2   \n",
       "6603             23          76                     3                    2   \n",
       "6604             20          90                     2                    1   \n",
       "6605             10          86                     3                    3   \n",
       "6606             15          67                     2                    1   \n",
       "\n",
       "      Sleep_Hours  Previous_Scores  Motivation_Level  Tutoring_Sessions  \\\n",
       "0               7               73                 1                  0   \n",
       "1               8               59                 1                  2   \n",
       "2               7               91                 2                  2   \n",
       "3               8               98                 2                  1   \n",
       "4               6               65                 2                  3   \n",
       "...           ...              ...               ...                ...   \n",
       "6602            7               76                 2                  1   \n",
       "6603            8               81                 2                  3   \n",
       "6604            6               65                 1                  3   \n",
       "6605            6               91                 3                  2   \n",
       "6606            9               94                 2                  0   \n",
       "\n",
       "      Family_Income  Teacher_Quality  Physical_Activity  Exam_Score  \\\n",
       "0                 1                2                  3          67   \n",
       "1                 2                2                  4          61   \n",
       "2                 2                2                  4          74   \n",
       "3                 2                2                  4          71   \n",
       "4                 2                3                  4          70   \n",
       "...             ...              ...                ...         ...   \n",
       "6602              3                2                  2          68   \n",
       "6603              1                3                  2          69   \n",
       "6604              1                2                  2          68   \n",
       "6605              1                2                  3          68   \n",
       "6606              2                2                  4          64   \n",
       "\n",
       "      Extracurricular_Activities_No  Extracurricular_Activities_Yes  \\\n",
       "0                              True                           False   \n",
       "1                              True                           False   \n",
       "2                             False                            True   \n",
       "3                             False                            True   \n",
       "4                             False                            True   \n",
       "...                             ...                             ...   \n",
       "6602                           True                           False   \n",
       "6603                           True                           False   \n",
       "6604                          False                            True   \n",
       "6605                          False                            True   \n",
       "6606                          False                            True   \n",
       "\n",
       "      Internet_Access_No  Internet_Access_Yes  School_Type_Private  \\\n",
       "0                  False                 True                False   \n",
       "1                  False                 True                False   \n",
       "2                  False                 True                False   \n",
       "3                  False                 True                False   \n",
       "4                  False                 True                False   \n",
       "...                  ...                  ...                  ...   \n",
       "6602               False                 True                False   \n",
       "6603               False                 True                False   \n",
       "6604               False                 True                False   \n",
       "6605               False                 True                 True   \n",
       "6606               False                 True                False   \n",
       "\n",
       "      School_Type_Public  Peer_Influence_Negative  Peer_Influence_Neutral  \\\n",
       "0                   True                    False                   False   \n",
       "1                   True                     True                   False   \n",
       "2                   True                    False                    True   \n",
       "3                   True                     True                   False   \n",
       "4                   True                    False                    True   \n",
       "...                  ...                      ...                     ...   \n",
       "6602                True                    False                   False   \n",
       "6603                True                    False                   False   \n",
       "6604                True                     True                   False   \n",
       "6605               False                    False                   False   \n",
       "6606                True                    False                   False   \n",
       "\n",
       "      Peer_Influence_Positive  Learning_Disabilities_No  \\\n",
       "0                        True                      True   \n",
       "1                       False                      True   \n",
       "2                       False                      True   \n",
       "3                       False                      True   \n",
       "4                       False                      True   \n",
       "...                       ...                       ...   \n",
       "6602                     True                      True   \n",
       "6603                     True                      True   \n",
       "6604                    False                      True   \n",
       "6605                     True                      True   \n",
       "6606                     True                      True   \n",
       "\n",
       "      Learning_Disabilities_Yes  Parental_Education_Level_College  \\\n",
       "0                         False                             False   \n",
       "1                         False                              True   \n",
       "2                         False                             False   \n",
       "3                         False                             False   \n",
       "4                         False                              True   \n",
       "...                         ...                               ...   \n",
       "6602                      False                             False   \n",
       "6603                      False                             False   \n",
       "6604                      False                             False   \n",
       "6605                      False                             False   \n",
       "6606                      False                             False   \n",
       "\n",
       "      Parental_Education_Level_High School  \\\n",
       "0                                     True   \n",
       "1                                    False   \n",
       "2                                    False   \n",
       "3                                     True   \n",
       "4                                    False   \n",
       "...                                    ...   \n",
       "6602                                  True   \n",
       "6603                                  True   \n",
       "6604                                 False   \n",
       "6605                                  True   \n",
       "6606                                 False   \n",
       "\n",
       "      Parental_Education_Level_Postgraduate  Distance_from_Home_Far  \\\n",
       "0                                     False                   False   \n",
       "1                                     False                   False   \n",
       "2                                      True                   False   \n",
       "3                                     False                   False   \n",
       "4                                     False                   False   \n",
       "...                                     ...                     ...   \n",
       "6602                                  False                   False   \n",
       "6603                                  False                   False   \n",
       "6604                                   True                   False   \n",
       "6605                                  False                    True   \n",
       "6606                                   True                   False   \n",
       "\n",
       "      Distance_from_Home_Moderate  Distance_from_Home_Near  Gender_Female  \\\n",
       "0                           False                     True          False   \n",
       "1                            True                    False           True   \n",
       "2                           False                     True          False   \n",
       "3                            True                    False          False   \n",
       "4                           False                     True           True   \n",
       "...                           ...                      ...            ...   \n",
       "6602                        False                     True           True   \n",
       "6603                        False                     True           True   \n",
       "6604                        False                     True           True   \n",
       "6605                        False                    False           True   \n",
       "6606                        False                     True          False   \n",
       "\n",
       "      Gender_Male  \n",
       "0            True  \n",
       "1           False  \n",
       "2            True  \n",
       "3            True  \n",
       "4           False  \n",
       "...           ...  \n",
       "6602        False  \n",
       "6603        False  \n",
       "6604        False  \n",
       "6605        False  \n",
       "6606         True  \n",
       "\n",
       "[6378 rows x 31 columns]"
      ]
     },
     "execution_count": 86,
     "metadata": {},
     "output_type": "execute_result"
    }
   ],
   "source": [
    "df1"
   ]
  },
  {
   "cell_type": "code",
   "execution_count": 87,
   "metadata": {},
   "outputs": [],
   "source": [
    "from sklearn.preprocessing import MinMaxScaler\n",
    "\n",
    "\n",
    "\n",
    "scaler = MinMaxScaler()\n",
    "df1[cols_to_normalize] = scaler.fit_transform(df1[cols_to_normalize])"
   ]
  },
  {
   "cell_type": "code",
   "execution_count": 88,
   "metadata": {},
   "outputs": [
    {
     "data": {
      "text/html": [
       "<div>\n",
       "<style scoped>\n",
       "    .dataframe tbody tr th:only-of-type {\n",
       "        vertical-align: middle;\n",
       "    }\n",
       "\n",
       "    .dataframe tbody tr th {\n",
       "        vertical-align: top;\n",
       "    }\n",
       "\n",
       "    .dataframe thead th {\n",
       "        text-align: right;\n",
       "    }\n",
       "</style>\n",
       "<table border=\"1\" class=\"dataframe\">\n",
       "  <thead>\n",
       "    <tr style=\"text-align: right;\">\n",
       "      <th></th>\n",
       "      <th>Hours_Studied</th>\n",
       "      <th>Attendance</th>\n",
       "      <th>Parental_Involvement</th>\n",
       "      <th>Access_to_Resources</th>\n",
       "      <th>Sleep_Hours</th>\n",
       "      <th>Previous_Scores</th>\n",
       "      <th>Motivation_Level</th>\n",
       "      <th>Tutoring_Sessions</th>\n",
       "      <th>Family_Income</th>\n",
       "      <th>Teacher_Quality</th>\n",
       "      <th>Physical_Activity</th>\n",
       "      <th>Exam_Score</th>\n",
       "      <th>Extracurricular_Activities_No</th>\n",
       "      <th>Extracurricular_Activities_Yes</th>\n",
       "      <th>Internet_Access_No</th>\n",
       "      <th>Internet_Access_Yes</th>\n",
       "      <th>School_Type_Private</th>\n",
       "      <th>School_Type_Public</th>\n",
       "      <th>Peer_Influence_Negative</th>\n",
       "      <th>Peer_Influence_Neutral</th>\n",
       "      <th>Peer_Influence_Positive</th>\n",
       "      <th>Learning_Disabilities_No</th>\n",
       "      <th>Learning_Disabilities_Yes</th>\n",
       "      <th>Parental_Education_Level_College</th>\n",
       "      <th>Parental_Education_Level_High School</th>\n",
       "      <th>Parental_Education_Level_Postgraduate</th>\n",
       "      <th>Distance_from_Home_Far</th>\n",
       "      <th>Distance_from_Home_Moderate</th>\n",
       "      <th>Distance_from_Home_Near</th>\n",
       "      <th>Gender_Female</th>\n",
       "      <th>Gender_Male</th>\n",
       "    </tr>\n",
       "  </thead>\n",
       "  <tbody>\n",
       "    <tr>\n",
       "      <th>0</th>\n",
       "      <td>0.511628</td>\n",
       "      <td>0.600</td>\n",
       "      <td>1</td>\n",
       "      <td>3</td>\n",
       "      <td>0.500000</td>\n",
       "      <td>0.46</td>\n",
       "      <td>1</td>\n",
       "      <td>0.000</td>\n",
       "      <td>1</td>\n",
       "      <td>2</td>\n",
       "      <td>0.500000</td>\n",
       "      <td>67</td>\n",
       "      <td>True</td>\n",
       "      <td>False</td>\n",
       "      <td>False</td>\n",
       "      <td>True</td>\n",
       "      <td>False</td>\n",
       "      <td>True</td>\n",
       "      <td>False</td>\n",
       "      <td>False</td>\n",
       "      <td>True</td>\n",
       "      <td>True</td>\n",
       "      <td>False</td>\n",
       "      <td>False</td>\n",
       "      <td>True</td>\n",
       "      <td>False</td>\n",
       "      <td>False</td>\n",
       "      <td>False</td>\n",
       "      <td>True</td>\n",
       "      <td>False</td>\n",
       "      <td>True</td>\n",
       "    </tr>\n",
       "    <tr>\n",
       "      <th>1</th>\n",
       "      <td>0.418605</td>\n",
       "      <td>0.100</td>\n",
       "      <td>1</td>\n",
       "      <td>2</td>\n",
       "      <td>0.666667</td>\n",
       "      <td>0.18</td>\n",
       "      <td>1</td>\n",
       "      <td>0.250</td>\n",
       "      <td>2</td>\n",
       "      <td>2</td>\n",
       "      <td>0.666667</td>\n",
       "      <td>61</td>\n",
       "      <td>True</td>\n",
       "      <td>False</td>\n",
       "      <td>False</td>\n",
       "      <td>True</td>\n",
       "      <td>False</td>\n",
       "      <td>True</td>\n",
       "      <td>True</td>\n",
       "      <td>False</td>\n",
       "      <td>False</td>\n",
       "      <td>True</td>\n",
       "      <td>False</td>\n",
       "      <td>True</td>\n",
       "      <td>False</td>\n",
       "      <td>False</td>\n",
       "      <td>False</td>\n",
       "      <td>True</td>\n",
       "      <td>False</td>\n",
       "      <td>True</td>\n",
       "      <td>False</td>\n",
       "    </tr>\n",
       "    <tr>\n",
       "      <th>2</th>\n",
       "      <td>0.534884</td>\n",
       "      <td>0.950</td>\n",
       "      <td>2</td>\n",
       "      <td>2</td>\n",
       "      <td>0.500000</td>\n",
       "      <td>0.82</td>\n",
       "      <td>2</td>\n",
       "      <td>0.250</td>\n",
       "      <td>2</td>\n",
       "      <td>2</td>\n",
       "      <td>0.666667</td>\n",
       "      <td>74</td>\n",
       "      <td>False</td>\n",
       "      <td>True</td>\n",
       "      <td>False</td>\n",
       "      <td>True</td>\n",
       "      <td>False</td>\n",
       "      <td>True</td>\n",
       "      <td>False</td>\n",
       "      <td>True</td>\n",
       "      <td>False</td>\n",
       "      <td>True</td>\n",
       "      <td>False</td>\n",
       "      <td>False</td>\n",
       "      <td>False</td>\n",
       "      <td>True</td>\n",
       "      <td>False</td>\n",
       "      <td>False</td>\n",
       "      <td>True</td>\n",
       "      <td>False</td>\n",
       "      <td>True</td>\n",
       "    </tr>\n",
       "    <tr>\n",
       "      <th>3</th>\n",
       "      <td>0.651163</td>\n",
       "      <td>0.725</td>\n",
       "      <td>1</td>\n",
       "      <td>2</td>\n",
       "      <td>0.666667</td>\n",
       "      <td>0.96</td>\n",
       "      <td>2</td>\n",
       "      <td>0.125</td>\n",
       "      <td>2</td>\n",
       "      <td>2</td>\n",
       "      <td>0.666667</td>\n",
       "      <td>71</td>\n",
       "      <td>False</td>\n",
       "      <td>True</td>\n",
       "      <td>False</td>\n",
       "      <td>True</td>\n",
       "      <td>False</td>\n",
       "      <td>True</td>\n",
       "      <td>True</td>\n",
       "      <td>False</td>\n",
       "      <td>False</td>\n",
       "      <td>True</td>\n",
       "      <td>False</td>\n",
       "      <td>False</td>\n",
       "      <td>True</td>\n",
       "      <td>False</td>\n",
       "      <td>False</td>\n",
       "      <td>True</td>\n",
       "      <td>False</td>\n",
       "      <td>False</td>\n",
       "      <td>True</td>\n",
       "    </tr>\n",
       "    <tr>\n",
       "      <th>4</th>\n",
       "      <td>0.418605</td>\n",
       "      <td>0.800</td>\n",
       "      <td>2</td>\n",
       "      <td>2</td>\n",
       "      <td>0.333333</td>\n",
       "      <td>0.30</td>\n",
       "      <td>2</td>\n",
       "      <td>0.375</td>\n",
       "      <td>2</td>\n",
       "      <td>3</td>\n",
       "      <td>0.666667</td>\n",
       "      <td>70</td>\n",
       "      <td>False</td>\n",
       "      <td>True</td>\n",
       "      <td>False</td>\n",
       "      <td>True</td>\n",
       "      <td>False</td>\n",
       "      <td>True</td>\n",
       "      <td>False</td>\n",
       "      <td>True</td>\n",
       "      <td>False</td>\n",
       "      <td>True</td>\n",
       "      <td>False</td>\n",
       "      <td>True</td>\n",
       "      <td>False</td>\n",
       "      <td>False</td>\n",
       "      <td>False</td>\n",
       "      <td>False</td>\n",
       "      <td>True</td>\n",
       "      <td>True</td>\n",
       "      <td>False</td>\n",
       "    </tr>\n",
       "    <tr>\n",
       "      <th>...</th>\n",
       "      <td>...</td>\n",
       "      <td>...</td>\n",
       "      <td>...</td>\n",
       "      <td>...</td>\n",
       "      <td>...</td>\n",
       "      <td>...</td>\n",
       "      <td>...</td>\n",
       "      <td>...</td>\n",
       "      <td>...</td>\n",
       "      <td>...</td>\n",
       "      <td>...</td>\n",
       "      <td>...</td>\n",
       "      <td>...</td>\n",
       "      <td>...</td>\n",
       "      <td>...</td>\n",
       "      <td>...</td>\n",
       "      <td>...</td>\n",
       "      <td>...</td>\n",
       "      <td>...</td>\n",
       "      <td>...</td>\n",
       "      <td>...</td>\n",
       "      <td>...</td>\n",
       "      <td>...</td>\n",
       "      <td>...</td>\n",
       "      <td>...</td>\n",
       "      <td>...</td>\n",
       "      <td>...</td>\n",
       "      <td>...</td>\n",
       "      <td>...</td>\n",
       "      <td>...</td>\n",
       "      <td>...</td>\n",
       "    </tr>\n",
       "    <tr>\n",
       "      <th>6602</th>\n",
       "      <td>0.558140</td>\n",
       "      <td>0.225</td>\n",
       "      <td>3</td>\n",
       "      <td>2</td>\n",
       "      <td>0.500000</td>\n",
       "      <td>0.52</td>\n",
       "      <td>2</td>\n",
       "      <td>0.125</td>\n",
       "      <td>3</td>\n",
       "      <td>2</td>\n",
       "      <td>0.333333</td>\n",
       "      <td>68</td>\n",
       "      <td>True</td>\n",
       "      <td>False</td>\n",
       "      <td>False</td>\n",
       "      <td>True</td>\n",
       "      <td>False</td>\n",
       "      <td>True</td>\n",
       "      <td>False</td>\n",
       "      <td>False</td>\n",
       "      <td>True</td>\n",
       "      <td>True</td>\n",
       "      <td>False</td>\n",
       "      <td>False</td>\n",
       "      <td>True</td>\n",
       "      <td>False</td>\n",
       "      <td>False</td>\n",
       "      <td>False</td>\n",
       "      <td>True</td>\n",
       "      <td>True</td>\n",
       "      <td>False</td>\n",
       "    </tr>\n",
       "    <tr>\n",
       "      <th>6603</th>\n",
       "      <td>0.511628</td>\n",
       "      <td>0.400</td>\n",
       "      <td>3</td>\n",
       "      <td>2</td>\n",
       "      <td>0.666667</td>\n",
       "      <td>0.62</td>\n",
       "      <td>2</td>\n",
       "      <td>0.375</td>\n",
       "      <td>1</td>\n",
       "      <td>3</td>\n",
       "      <td>0.333333</td>\n",
       "      <td>69</td>\n",
       "      <td>True</td>\n",
       "      <td>False</td>\n",
       "      <td>False</td>\n",
       "      <td>True</td>\n",
       "      <td>False</td>\n",
       "      <td>True</td>\n",
       "      <td>False</td>\n",
       "      <td>False</td>\n",
       "      <td>True</td>\n",
       "      <td>True</td>\n",
       "      <td>False</td>\n",
       "      <td>False</td>\n",
       "      <td>True</td>\n",
       "      <td>False</td>\n",
       "      <td>False</td>\n",
       "      <td>False</td>\n",
       "      <td>True</td>\n",
       "      <td>True</td>\n",
       "      <td>False</td>\n",
       "    </tr>\n",
       "    <tr>\n",
       "      <th>6604</th>\n",
       "      <td>0.441860</td>\n",
       "      <td>0.750</td>\n",
       "      <td>2</td>\n",
       "      <td>1</td>\n",
       "      <td>0.333333</td>\n",
       "      <td>0.30</td>\n",
       "      <td>1</td>\n",
       "      <td>0.375</td>\n",
       "      <td>1</td>\n",
       "      <td>2</td>\n",
       "      <td>0.333333</td>\n",
       "      <td>68</td>\n",
       "      <td>False</td>\n",
       "      <td>True</td>\n",
       "      <td>False</td>\n",
       "      <td>True</td>\n",
       "      <td>False</td>\n",
       "      <td>True</td>\n",
       "      <td>True</td>\n",
       "      <td>False</td>\n",
       "      <td>False</td>\n",
       "      <td>True</td>\n",
       "      <td>False</td>\n",
       "      <td>False</td>\n",
       "      <td>False</td>\n",
       "      <td>True</td>\n",
       "      <td>False</td>\n",
       "      <td>False</td>\n",
       "      <td>True</td>\n",
       "      <td>True</td>\n",
       "      <td>False</td>\n",
       "    </tr>\n",
       "    <tr>\n",
       "      <th>6605</th>\n",
       "      <td>0.209302</td>\n",
       "      <td>0.650</td>\n",
       "      <td>3</td>\n",
       "      <td>3</td>\n",
       "      <td>0.333333</td>\n",
       "      <td>0.82</td>\n",
       "      <td>3</td>\n",
       "      <td>0.250</td>\n",
       "      <td>1</td>\n",
       "      <td>2</td>\n",
       "      <td>0.500000</td>\n",
       "      <td>68</td>\n",
       "      <td>False</td>\n",
       "      <td>True</td>\n",
       "      <td>False</td>\n",
       "      <td>True</td>\n",
       "      <td>True</td>\n",
       "      <td>False</td>\n",
       "      <td>False</td>\n",
       "      <td>False</td>\n",
       "      <td>True</td>\n",
       "      <td>True</td>\n",
       "      <td>False</td>\n",
       "      <td>False</td>\n",
       "      <td>True</td>\n",
       "      <td>False</td>\n",
       "      <td>True</td>\n",
       "      <td>False</td>\n",
       "      <td>False</td>\n",
       "      <td>True</td>\n",
       "      <td>False</td>\n",
       "    </tr>\n",
       "    <tr>\n",
       "      <th>6606</th>\n",
       "      <td>0.325581</td>\n",
       "      <td>0.175</td>\n",
       "      <td>2</td>\n",
       "      <td>1</td>\n",
       "      <td>0.833333</td>\n",
       "      <td>0.88</td>\n",
       "      <td>2</td>\n",
       "      <td>0.000</td>\n",
       "      <td>2</td>\n",
       "      <td>2</td>\n",
       "      <td>0.666667</td>\n",
       "      <td>64</td>\n",
       "      <td>False</td>\n",
       "      <td>True</td>\n",
       "      <td>False</td>\n",
       "      <td>True</td>\n",
       "      <td>False</td>\n",
       "      <td>True</td>\n",
       "      <td>False</td>\n",
       "      <td>False</td>\n",
       "      <td>True</td>\n",
       "      <td>True</td>\n",
       "      <td>False</td>\n",
       "      <td>False</td>\n",
       "      <td>False</td>\n",
       "      <td>True</td>\n",
       "      <td>False</td>\n",
       "      <td>False</td>\n",
       "      <td>True</td>\n",
       "      <td>False</td>\n",
       "      <td>True</td>\n",
       "    </tr>\n",
       "  </tbody>\n",
       "</table>\n",
       "<p>6378 rows × 31 columns</p>\n",
       "</div>"
      ],
      "text/plain": [
       "      Hours_Studied  Attendance  Parental_Involvement  Access_to_Resources  \\\n",
       "0          0.511628       0.600                     1                    3   \n",
       "1          0.418605       0.100                     1                    2   \n",
       "2          0.534884       0.950                     2                    2   \n",
       "3          0.651163       0.725                     1                    2   \n",
       "4          0.418605       0.800                     2                    2   \n",
       "...             ...         ...                   ...                  ...   \n",
       "6602       0.558140       0.225                     3                    2   \n",
       "6603       0.511628       0.400                     3                    2   \n",
       "6604       0.441860       0.750                     2                    1   \n",
       "6605       0.209302       0.650                     3                    3   \n",
       "6606       0.325581       0.175                     2                    1   \n",
       "\n",
       "      Sleep_Hours  Previous_Scores  Motivation_Level  Tutoring_Sessions  \\\n",
       "0        0.500000             0.46                 1              0.000   \n",
       "1        0.666667             0.18                 1              0.250   \n",
       "2        0.500000             0.82                 2              0.250   \n",
       "3        0.666667             0.96                 2              0.125   \n",
       "4        0.333333             0.30                 2              0.375   \n",
       "...           ...              ...               ...                ...   \n",
       "6602     0.500000             0.52                 2              0.125   \n",
       "6603     0.666667             0.62                 2              0.375   \n",
       "6604     0.333333             0.30                 1              0.375   \n",
       "6605     0.333333             0.82                 3              0.250   \n",
       "6606     0.833333             0.88                 2              0.000   \n",
       "\n",
       "      Family_Income  Teacher_Quality  Physical_Activity  Exam_Score  \\\n",
       "0                 1                2           0.500000          67   \n",
       "1                 2                2           0.666667          61   \n",
       "2                 2                2           0.666667          74   \n",
       "3                 2                2           0.666667          71   \n",
       "4                 2                3           0.666667          70   \n",
       "...             ...              ...                ...         ...   \n",
       "6602              3                2           0.333333          68   \n",
       "6603              1                3           0.333333          69   \n",
       "6604              1                2           0.333333          68   \n",
       "6605              1                2           0.500000          68   \n",
       "6606              2                2           0.666667          64   \n",
       "\n",
       "      Extracurricular_Activities_No  Extracurricular_Activities_Yes  \\\n",
       "0                              True                           False   \n",
       "1                              True                           False   \n",
       "2                             False                            True   \n",
       "3                             False                            True   \n",
       "4                             False                            True   \n",
       "...                             ...                             ...   \n",
       "6602                           True                           False   \n",
       "6603                           True                           False   \n",
       "6604                          False                            True   \n",
       "6605                          False                            True   \n",
       "6606                          False                            True   \n",
       "\n",
       "      Internet_Access_No  Internet_Access_Yes  School_Type_Private  \\\n",
       "0                  False                 True                False   \n",
       "1                  False                 True                False   \n",
       "2                  False                 True                False   \n",
       "3                  False                 True                False   \n",
       "4                  False                 True                False   \n",
       "...                  ...                  ...                  ...   \n",
       "6602               False                 True                False   \n",
       "6603               False                 True                False   \n",
       "6604               False                 True                False   \n",
       "6605               False                 True                 True   \n",
       "6606               False                 True                False   \n",
       "\n",
       "      School_Type_Public  Peer_Influence_Negative  Peer_Influence_Neutral  \\\n",
       "0                   True                    False                   False   \n",
       "1                   True                     True                   False   \n",
       "2                   True                    False                    True   \n",
       "3                   True                     True                   False   \n",
       "4                   True                    False                    True   \n",
       "...                  ...                      ...                     ...   \n",
       "6602                True                    False                   False   \n",
       "6603                True                    False                   False   \n",
       "6604                True                     True                   False   \n",
       "6605               False                    False                   False   \n",
       "6606                True                    False                   False   \n",
       "\n",
       "      Peer_Influence_Positive  Learning_Disabilities_No  \\\n",
       "0                        True                      True   \n",
       "1                       False                      True   \n",
       "2                       False                      True   \n",
       "3                       False                      True   \n",
       "4                       False                      True   \n",
       "...                       ...                       ...   \n",
       "6602                     True                      True   \n",
       "6603                     True                      True   \n",
       "6604                    False                      True   \n",
       "6605                     True                      True   \n",
       "6606                     True                      True   \n",
       "\n",
       "      Learning_Disabilities_Yes  Parental_Education_Level_College  \\\n",
       "0                         False                             False   \n",
       "1                         False                              True   \n",
       "2                         False                             False   \n",
       "3                         False                             False   \n",
       "4                         False                              True   \n",
       "...                         ...                               ...   \n",
       "6602                      False                             False   \n",
       "6603                      False                             False   \n",
       "6604                      False                             False   \n",
       "6605                      False                             False   \n",
       "6606                      False                             False   \n",
       "\n",
       "      Parental_Education_Level_High School  \\\n",
       "0                                     True   \n",
       "1                                    False   \n",
       "2                                    False   \n",
       "3                                     True   \n",
       "4                                    False   \n",
       "...                                    ...   \n",
       "6602                                  True   \n",
       "6603                                  True   \n",
       "6604                                 False   \n",
       "6605                                  True   \n",
       "6606                                 False   \n",
       "\n",
       "      Parental_Education_Level_Postgraduate  Distance_from_Home_Far  \\\n",
       "0                                     False                   False   \n",
       "1                                     False                   False   \n",
       "2                                      True                   False   \n",
       "3                                     False                   False   \n",
       "4                                     False                   False   \n",
       "...                                     ...                     ...   \n",
       "6602                                  False                   False   \n",
       "6603                                  False                   False   \n",
       "6604                                   True                   False   \n",
       "6605                                  False                    True   \n",
       "6606                                   True                   False   \n",
       "\n",
       "      Distance_from_Home_Moderate  Distance_from_Home_Near  Gender_Female  \\\n",
       "0                           False                     True          False   \n",
       "1                            True                    False           True   \n",
       "2                           False                     True          False   \n",
       "3                            True                    False          False   \n",
       "4                           False                     True           True   \n",
       "...                           ...                      ...            ...   \n",
       "6602                        False                     True           True   \n",
       "6603                        False                     True           True   \n",
       "6604                        False                     True           True   \n",
       "6605                        False                    False           True   \n",
       "6606                        False                     True          False   \n",
       "\n",
       "      Gender_Male  \n",
       "0            True  \n",
       "1           False  \n",
       "2            True  \n",
       "3            True  \n",
       "4           False  \n",
       "...           ...  \n",
       "6602        False  \n",
       "6603        False  \n",
       "6604        False  \n",
       "6605        False  \n",
       "6606         True  \n",
       "\n",
       "[6378 rows x 31 columns]"
      ]
     },
     "execution_count": 88,
     "metadata": {},
     "output_type": "execute_result"
    }
   ],
   "source": [
    "df1"
   ]
  },
  {
   "cell_type": "markdown",
   "metadata": {},
   "source": [
    "### TRAIN TEST SPLIT"
   ]
  },
  {
   "cell_type": "code",
   "execution_count": 89,
   "metadata": {},
   "outputs": [],
   "source": [
    "X = df1.drop('Exam_Score', axis = 1)\n",
    "y = df1['Exam_Score']"
   ]
  },
  {
   "cell_type": "code",
   "execution_count": 90,
   "metadata": {},
   "outputs": [
    {
     "name": "stdout",
     "output_type": "stream",
     "text": [
      "(4464, 30)\n",
      "(4464,)\n",
      "(1914, 30)\n",
      "(1914,)\n"
     ]
    }
   ],
   "source": [
    "# Train Test Split\n",
    "Xtrain, Xtest, ytrain, ytest = train_test_split(X, y, test_size = 0.3, random_state = 42)\n",
    "# ytrain = ytrain.astype('int')\n",
    "# ytest = ytest.astype('int')\n",
    "\n",
    "print(Xtrain.shape)\n",
    "print(ytrain.shape)\n",
    "print(Xtest.shape)\n",
    "print(ytest.shape)"
   ]
  },
  {
   "cell_type": "markdown",
   "metadata": {
    "vscode": {
     "languageId": "raw"
    }
   },
   "source": [
    "* A partir daqui serão testados diferentes modelos com diferentes combinações de hiperparâmetros para verificar qual apresenta melhor métrica de classificação."
   ]
  },
  {
   "cell_type": "code",
   "execution_count": 91,
   "metadata": {},
   "outputs": [],
   "source": [
    "# bibliotecas para avaliar as métricas do modelo\n",
    "\n",
    "from sklearn.metrics import mean_absolute_error\n",
    "from sklearn.metrics import mean_squared_error\n",
    "from sklearn.metrics import mean_absolute_percentage_error"
   ]
  },
  {
   "cell_type": "code",
   "execution_count": 57,
   "metadata": {},
   "outputs": [],
   "source": [
    "# modelo = []\n",
    "# precisao = []\n",
    "# recall = []\n",
    "# auc = []\n",
    "# df_comp = pd.DataFrame({'modelo': modelo, 'precisao':precisao, 'recall':recall, 'auc': auc})\n",
    "\n",
    "\n",
    "# def append_tab(ytest, ypred):\n",
    "#   '''\n",
    "#   Função para inserir métricas de classificação de cada modelo testado\n",
    "#   em uma tabela comparativa, ordenada pelo maior AUC.\n",
    "\n",
    "#   ARGS:\n",
    "#   ytest: valores reais da feature target ('Response') armazenadas no objeto ytest\n",
    "#   ypred: valores preditos pelo ML para a feature target ('Response') armazenadas no objeto ypred\n",
    "#   '''\n",
    "#   global modelo\n",
    "#   global precisao\n",
    "#   global recall\n",
    "#   global auc\n",
    "#   global df_comp\n",
    "\n",
    "#   modelo.append(mod)\n",
    "#   precisao.append(precision_score(ytest, ypred))\n",
    "#   recall.append(recall_score(ytest, ypred))\n",
    "#   auc.append(roc_auc_score(ytest, ypred))\n",
    "#   df_comp = pd.DataFrame({'modelo': modelo,\n",
    "#                         'auc': auc,\n",
    "#                         'precisao': precisao,\n",
    "#                         'recall': recall\n",
    "#                         })\n",
    "#   df_comp = df_comp.sort_values('auc', ascending = False)\n",
    "#   return df_comp\n"
   ]
  },
  {
   "cell_type": "code",
   "execution_count": 92,
   "metadata": {},
   "outputs": [],
   "source": [
    "import warnings\n",
    "\n",
    "%matplotlib inline\n",
    "warnings.filterwarnings('ignore')"
   ]
  },
  {
   "cell_type": "code",
   "execution_count": null,
   "metadata": {},
   "outputs": [],
   "source": []
  },
  {
   "cell_type": "markdown",
   "metadata": {},
   "source": [
    "#### Modelo 01 - Decision Tree"
   ]
  },
  {
   "cell_type": "code",
   "execution_count": 104,
   "metadata": {},
   "outputs": [],
   "source": [
    "from sklearn.tree import DecisionTreeRegressor\n",
    "\n",
    "model_dt = DecisionTreeRegressor()\n",
    "model_dt.fit(Xtrain, ytrain)\n",
    "y_pred_dt = model_dt.predict(Xtest)"
   ]
  },
  {
   "cell_type": "code",
   "execution_count": 105,
   "metadata": {},
   "outputs": [
    {
     "name": "stdout",
     "output_type": "stream",
     "text": [
      "MSE: 13.469696969696969\n",
      "RMSE: 3.6701085773716517\n",
      "MAPE: 0.026877925571111298\n"
     ]
    }
   ],
   "source": [
    "mse = mean_squared_error(ytest,y_pred_dt, squared=True)\n",
    "rmse = np.sqrt(mse)\n",
    "mape = mean_absolute_percentage_error(ytest,y_pred_dt)\n",
    "print(f'MSE: {mse}\\nRMSE: {rmse}\\nMAPE: {mape}')"
   ]
  },
  {
   "cell_type": "markdown",
   "metadata": {},
   "source": [
    "#### Modelo 02 - Linear Regression"
   ]
  },
  {
   "cell_type": "code",
   "execution_count": 96,
   "metadata": {},
   "outputs": [],
   "source": [
    "from sklearn.linear_model import LinearRegression\n",
    "\n",
    "model_lr = LinearRegression()\n",
    "model_lr.fit(Xtrain, ytrain)\n",
    "ypred_lr = model_lr.predict(Xtest)\n"
   ]
  },
  {
   "cell_type": "code",
   "execution_count": 97,
   "metadata": {},
   "outputs": [
    {
     "name": "stdout",
     "output_type": "stream",
     "text": [
      "MSE: 4.064897527266196\n",
      "RMSE: 2.0161591026668\n",
      "MAPE: 0.006709597474810139\n"
     ]
    }
   ],
   "source": [
    "mse = mean_squared_error(ytest,ypred_lr, squared=True)\n",
    "rmse = np.sqrt(mse)\n",
    "mape = mean_absolute_percentage_error(ytest,ypred_lr)\n",
    "print(f'MSE: {mse}\\nRMSE: {rmse}\\nMAPE: {mape}')"
   ]
  },
  {
   "cell_type": "markdown",
   "metadata": {},
   "source": [
    "#### Modelo 03 - K-NN Regressor"
   ]
  },
  {
   "cell_type": "code",
   "execution_count": 98,
   "metadata": {},
   "outputs": [],
   "source": [
    "from sklearn.neighbors import KNeighborsRegressor\n",
    "\n",
    "model_knn = KNeighborsRegressor(n_neighbors=7, metric='euclidean')\n",
    "model_knn.fit(Xtrain, ytrain)\n",
    "y_pred_knn = model_knn.predict(Xtest)\n"
   ]
  },
  {
   "cell_type": "code",
   "execution_count": 101,
   "metadata": {},
   "outputs": [
    {
     "name": "stdout",
     "output_type": "stream",
     "text": [
      "MSE: 12.673544025760773\n",
      "RMSE: 3.5599921384408666\n",
      "MAPE: 0.03710582318830476\n"
     ]
    }
   ],
   "source": [
    "mse = mean_squared_error(ytest,y_pred_knn, squared=True)\n",
    "rmse = np.sqrt(mse)\n",
    "mape = mean_absolute_percentage_error(ytest,y_pred_knn)\n",
    "print(f'MSE: {mse}\\nRMSE: {rmse}\\nMAPE: {mape}')"
   ]
  },
  {
   "cell_type": "markdown",
   "metadata": {},
   "source": [
    "#### Modelo 04 - Support Vector Machine"
   ]
  },
  {
   "cell_type": "code",
   "execution_count": 102,
   "metadata": {},
   "outputs": [],
   "source": [
    "from sklearn.svm import SVR\n",
    "\n",
    "model_svr = SVR()\n",
    "model_svr.fit(Xtrain, ytrain)\n",
    "y_pred_svr = model_svr.predict(Xtest)"
   ]
  },
  {
   "cell_type": "code",
   "execution_count": 103,
   "metadata": {},
   "outputs": [
    {
     "name": "stdout",
     "output_type": "stream",
     "text": [
      "MSE: 4.157739702346872\n",
      "RMSE: 2.039053629100243\n",
      "MAPE: 0.007359995410706708\n"
     ]
    }
   ],
   "source": [
    "mse = mean_squared_error(ytest,y_pred_svr, squared=True)\n",
    "rmse = np.sqrt(mse)\n",
    "mape = mean_absolute_percentage_error(ytest,y_pred_svr)\n",
    "print(f'MSE: {mse}\\nRMSE: {rmse}\\nMAPE: {mape}')"
   ]
  },
  {
   "cell_type": "markdown",
   "metadata": {},
   "source": [
    "#### Modelo 05 - XGBoost"
   ]
  },
  {
   "cell_type": "code",
   "execution_count": 110,
   "metadata": {},
   "outputs": [],
   "source": [
    "from xgboost import XGBRegressor\n",
    "\n",
    "model_xgb = XGBRegressor()\n",
    "model_xgb.fit(Xtrain, ytrain)\n",
    "y_pred_xgb = model_xgb.predict(Xtest)"
   ]
  },
  {
   "cell_type": "code",
   "execution_count": 111,
   "metadata": {},
   "outputs": [
    {
     "name": "stdout",
     "output_type": "stream",
     "text": [
      "MSE: 4.157739702346872\n",
      "RMSE: 2.039053629100243\n",
      "MAPE: 0.01372460251546829\n"
     ]
    }
   ],
   "source": [
    "mse = mean_squared_error(ytest,y_pred_svr, squared=True)\n",
    "rmse = np.sqrt(mse)\n",
    "mape = mean_absolute_percentage_error(ytest,y_pred_xgb)\n",
    "print(f'MSE: {mse}\\nRMSE: {rmse}\\nMAPE: {mape}')"
   ]
  },
  {
   "cell_type": "markdown",
   "metadata": {},
   "source": [
    "#### Modelo 05 - Random Forest"
   ]
  },
  {
   "cell_type": "code",
   "execution_count": 112,
   "metadata": {},
   "outputs": [],
   "source": [
    "from sklearn.ensemble import RandomForestClassifier\n",
    "\n",
    "model_rf = RandomForestClassifier()\n",
    "model_rf.fit(Xtrain, ytrain)\n",
    "y_pred_rf = model_rf.predict(Xtest)"
   ]
  },
  {
   "cell_type": "code",
   "execution_count": 113,
   "metadata": {},
   "outputs": [
    {
     "name": "stdout",
     "output_type": "stream",
     "text": [
      "MSE: 6.565308254963427\n",
      "RMSE: 2.5622857481091814\n",
      "MAPE: 0.020752994607286447\n"
     ]
    }
   ],
   "source": [
    "mse = mean_squared_error(ytest,y_pred_rf, squared=True)\n",
    "rmse = np.sqrt(mse)\n",
    "mape = mean_absolute_percentage_error(ytest,y_pred_rf)\n",
    "print(f'MSE: {mse}\\nRMSE: {rmse}\\nMAPE: {mape}')"
   ]
  },
  {
   "cell_type": "markdown",
   "metadata": {},
   "source": [
    "Desses modelos acima testados, os que tiveram as melhores métricas foram:  \n",
    "- Deciosion Tree  \n",
    "- KNN Regressor\n",
    "- Random Forest"
   ]
  },
  {
   "cell_type": "markdown",
   "metadata": {},
   "source": [
    "### Feature importances de Decision Tree"
   ]
  },
  {
   "cell_type": "code",
   "execution_count": 114,
   "metadata": {},
   "outputs": [
    {
     "data": {
      "image/png": "[encoded data removed]",
      "text/plain": [
       "<Figure size 1200x800 with 1 Axes>"
      ]
     },
     "metadata": {},
     "output_type": "display_data"
    }
   ],
   "source": [
    "# Obtendo a importância das features\n",
    "feature_importance = model_dt.feature_importances_\n",
    "\n",
    "# Criando um DataFrame para visualização\n",
    "feature_importance_df = pd.DataFrame({'Feature': X.columns, 'Importance': feature_importance})\n",
    "\n",
    "# Ordenando as features pela importância\n",
    "feature_importance_df = feature_importance_df.sort_values(by='Importance', ascending=False)\n",
    "\n",
    "# Plotando a importância das features\n",
    "plt.figure(figsize=(12, 8))\n",
    "sns.barplot(x='Importance', y='Feature', data=feature_importance_df, palette='Spectral')\n",
    "plt.title('Importância das Features XGBoost')\n",
    "plt.show()"
   ]
  },
  {
   "cell_type": "markdown",
   "metadata": {},
   "source": [
    "### Feature importances de Random Forest"
   ]
  },
  {
   "cell_type": "code",
   "execution_count": 116,
   "metadata": {},
   "outputs": [
    {
     "data": {
      "image/png": "[encoded data removed]",
      "text/plain": [
       "<Figure size 1200x800 with 1 Axes>"
      ]
     },
     "metadata": {},
     "output_type": "display_data"
    }
   ],
   "source": [
    "# Obtendo a importância das features\n",
    "feature_importance = model_rf.feature_importances_\n",
    "\n",
    "# Criando um DataFrame para visualização\n",
    "feature_importance_df = pd.DataFrame({'Feature': X.columns, 'Importance': feature_importance})\n",
    "\n",
    "# Ordenando as features pela importância\n",
    "feature_importance_df = feature_importance_df.sort_values(by='Importance', ascending=False)\n",
    "\n",
    "# Plotando a importância das features\n",
    "plt.figure(figsize=(12, 8))\n",
    "sns.barplot(x='Importance', y='Feature', data=feature_importance_df, palette='Spectral')\n",
    "plt.title('Importância das Features XGBoost')\n",
    "plt.show()"
   ]
  },
  {
   "cell_type": "markdown",
   "metadata": {},
   "source": [
    "## Otimização e Ajuste Fino"
   ]
  },
  {
   "cell_type": "markdown",
   "metadata": {},
   "source": [
    "Vamos utilizar o GridSearch para selecionar os melhores hiperparametros para obtermos a melhor combinação para um melhor resultado do treinamento do modelo"
   ]
  },
  {
   "cell_type": "code",
   "execution_count": 118,
   "metadata": {},
   "outputs": [],
   "source": [
    "from sklearn.model_selection import GridSearchCV\n",
    "\n",
    "# Definir os parâmetros a serem testados\n",
    "param_grid = {\n",
    "    'n_estimators': [50, 100, 150],\n",
    "    'max_depth': [None, 10, 20],\n",
    "    'min_samples_split': [2, 5, 10],\n",
    "    'min_samples_leaf': [1, 2, 4],\n",
    "    'max_features': [None, 'sqrt', 'log2']\n",
    "}\n",
    "\n",
    "# Inicializar o classificador Random Forest\n",
    "rf_classifier = RandomForestClassifier(random_state=42)\n",
    "\n",
    "# Realizar a busca em grade para encontrar os melhores parâmetros\n",
    "grid_search = GridSearchCV(rf_classifier, param_grid, cv=10, scoring='accuracy')\n",
    "grid_search.fit(Xtrain, ytrain)\n",
    "\n",
    "# Utilizar o modelo com os melhores parâmetros\n",
    "best_rf_classifier = grid_search.best_estimator_\n",
    "\n",
    "# Treinar o modelo com todos os dados de treinamento\n",
    "best_rf_classifier.fit(Xtrain, ytrain)\n",
    "\n",
    "# Prever os rótulos para os dados de teste\n",
    "y_pred = best_rf_classifier.predict(Xtest)"
   ]
  },
  {
   "cell_type": "code",
   "execution_count": 119,
   "metadata": {},
   "outputs": [
    {
     "name": "stdout",
     "output_type": "stream",
     "text": [
      "Melhores Parâmetros Encontrados:\n",
      "{'max_depth': None, 'max_features': None, 'min_samples_leaf': 1, 'min_samples_split': 5, 'n_estimators': 150}\n"
     ]
    }
   ],
   "source": [
    "# Exibir os melhores parâmetros encontrados\n",
    "print(\"Melhores Parâmetros Encontrados:\")\n",
    "print(grid_search.best_params_)"
   ]
  },
  {
   "cell_type": "code",
   "execution_count": 120,
   "metadata": {},
   "outputs": [
    {
     "name": "stdout",
     "output_type": "stream",
     "text": [
      "MSE: 6.099268547544409\n",
      "RMSE: 2.4696697243851067\n",
      "MAPE: 0.018604775859368483\n"
     ]
    }
   ],
   "source": [
    "mse = mean_squared_error(ytest,y_pred, squared=True)\n",
    "rmse = np.sqrt(mse)\n",
    "mape = mean_absolute_percentage_error(ytest,y_pred)\n",
    "print(f'MSE: {mse}\\nRMSE: {rmse}\\nMAPE: {mape}')"
   ]
  },
  {
   "cell_type": "markdown",
   "metadata": {},
   "source": [
    "### Testando o modelo com validação cruzada"
   ]
  },
  {
   "cell_type": "code",
   "execution_count": 121,
   "metadata": {},
   "outputs": [
    {
     "name": "stdout",
     "output_type": "stream",
     "text": [
      "[0.25950783 0.27293065 0.28187919 0.30872483 0.2735426  0.28251121\n",
      " 0.26233184 0.25560538 0.25784753 0.2735426 ]\n",
      "Acurácia média com validação cruzada: 0.2728423671512124\n"
     ]
    }
   ],
   "source": [
    "from sklearn.model_selection import cross_val_score\n",
    "\n",
    "modelo_RFC_cv = RandomForestClassifier(class_weight='balanced',\n",
    "                                       n_estimators= 200,\n",
    "                                       max_depth= 8,\n",
    "                                       random_state=42)\n",
    "\n",
    "scores = cross_val_score(best_rf_classifier, Xtrain, ytrain, cv=10, scoring='accuracy')\n",
    "\n",
    "print(scores)\n",
    "print(\"Acurácia média com validação cruzada:\", scores.mean())"
   ]
  }
 ],
 "metadata": {
  "kernelspec": {
   "display_name": ".venv",
   "language": "python",
   "name": "python3"
  },
  "language_info": {
   "codemirror_mode": {
    "name": "ipython",
    "version": 3
   },
   "file_extension": ".py",
   "mimetype": "text/x-python",
   "name": "python",
   "nbconvert_exporter": "python",
   "pygments_lexer": "ipython3",
   "version": "3.9.18"
  }
 },
 "nbformat": 4,
 "nbformat_minor": 2
}
